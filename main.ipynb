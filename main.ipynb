{
 "cells": [
  {
   "cell_type": "code",
   "execution_count": 1,
   "id": "33655264-1486-4c44-a3ff-6d6c051d70f5",
   "metadata": {
    "tags": []
   },
   "outputs": [],
   "source": [
    "import pandas as pd\n",
    "import numpy as np\n",
    "import re\n",
    "\n",
    "import plotly.express as px\n",
    "import ipywidgets as widgets\n",
    "\n",
    "pd.set_option(\"display.max_colwidth\", None)\n",
    "pd.set_option(\"display.max_columns\", None)"
   ]
  },
  {
   "cell_type": "code",
   "execution_count": 2,
   "id": "b9d995b3-2fb0-432a-9518-2f27e7e5f455",
   "metadata": {
    "tags": []
   },
   "outputs": [],
   "source": [
    "meta = pd.read_csv(\"./input_folder/KS/meta_final2.tsv\", sep = \"\\t\", index_col = 0)\n",
    "rename_to = {v: k for k, v in meta[\"old_name\"].to_dict().items()}"
   ]
  },
  {
   "cell_type": "code",
   "execution_count": 3,
   "id": "7f073937-f6c0-497d-af68-ceae8899fef8",
   "metadata": {
    "tags": []
   },
   "outputs": [
    {
     "data": {
      "text/html": [
       "<div>\n",
       "<style scoped>\n",
       "    .dataframe tbody tr th:only-of-type {\n",
       "        vertical-align: middle;\n",
       "    }\n",
       "\n",
       "    .dataframe tbody tr th {\n",
       "        vertical-align: top;\n",
       "    }\n",
       "\n",
       "    .dataframe thead th {\n",
       "        text-align: right;\n",
       "    }\n",
       "</style>\n",
       "<table border=\"1\" class=\"dataframe\">\n",
       "  <thead>\n",
       "    <tr style=\"text-align: right;\">\n",
       "      <th></th>\n",
       "      <th>16S_rRNA_Count</th>\n",
       "      <th>metadata_NSTI</th>\n",
       "    </tr>\n",
       "    <tr>\n",
       "      <th>sequence</th>\n",
       "      <th></th>\n",
       "      <th></th>\n",
       "    </tr>\n",
       "  </thead>\n",
       "  <tbody>\n",
       "    <tr>\n",
       "      <th>5727d3487e755c7535a608fe7c7c2627</th>\n",
       "      <td>11</td>\n",
       "      <td>0.010987</td>\n",
       "    </tr>\n",
       "    <tr>\n",
       "      <th>55a342b38d7e5865e544472e7b1acdce</th>\n",
       "      <td>10</td>\n",
       "      <td>1.386634</td>\n",
       "    </tr>\n",
       "    <tr>\n",
       "      <th>a0d6d35b3f49dbf5abd28b9b6478f698</th>\n",
       "      <td>10</td>\n",
       "      <td>5.402627</td>\n",
       "    </tr>\n",
       "    <tr>\n",
       "      <th>a3d96918559b5ec0d9206dde8a4d287c</th>\n",
       "      <td>10</td>\n",
       "      <td>2.581496</td>\n",
       "    </tr>\n",
       "    <tr>\n",
       "      <th>bd6b181561a0d53f96d0f0a272dd5cab</th>\n",
       "      <td>10</td>\n",
       "      <td>1.371598</td>\n",
       "    </tr>\n",
       "  </tbody>\n",
       "</table>\n",
       "</div>"
      ],
      "text/plain": [
       "                                  16S_rRNA_Count  metadata_NSTI\n",
       "sequence                                                       \n",
       "5727d3487e755c7535a608fe7c7c2627              11       0.010987\n",
       "55a342b38d7e5865e544472e7b1acdce              10       1.386634\n",
       "a0d6d35b3f49dbf5abd28b9b6478f698              10       5.402627\n",
       "a3d96918559b5ec0d9206dde8a4d287c              10       2.581496\n",
       "bd6b181561a0d53f96d0f0a272dd5cab              10       1.371598"
      ]
     },
     "execution_count": 3,
     "metadata": {},
     "output_type": "execute_result"
    }
   ],
   "source": [
    "path = \"input_folder/KS/16S_predicted.tsv.gz\"\n",
    "df = pd.read_csv(path, compression=\"gzip\", header=0, sep=\"\\t\", index_col = 0)\n",
    "df.sort_values(\"16S_rRNA_Count\", ascending = False, inplace = True)\n",
    "df.head(5)"
   ]
  },
  {
   "cell_type": "code",
   "execution_count": 4,
   "id": "d34191c1-8ff6-40f2-b8f7-92cd9ba9efbe",
   "metadata": {
    "tags": []
   },
   "outputs": [
    {
     "data": {
      "text/plain": [
       "(44, 2)"
      ]
     },
     "execution_count": 4,
     "metadata": {},
     "output_type": "execute_result"
    }
   ],
   "source": [
    "df.loc[df[\"metadata_NSTI\"] > 2, :].shape"
   ]
  },
  {
   "cell_type": "code",
   "execution_count": 5,
   "id": "d98a68cf-a8d0-4bfd-a689-748c7f2ed9d6",
   "metadata": {
    "tags": []
   },
   "outputs": [
    {
     "data": {
      "text/html": [
       "<div>\n",
       "<style scoped>\n",
       "    .dataframe tbody tr th:only-of-type {\n",
       "        vertical-align: middle;\n",
       "    }\n",
       "\n",
       "    .dataframe tbody tr th {\n",
       "        vertical-align: top;\n",
       "    }\n",
       "\n",
       "    .dataframe thead th {\n",
       "        text-align: right;\n",
       "    }\n",
       "</style>\n",
       "<table border=\"1\" class=\"dataframe\">\n",
       "  <thead>\n",
       "    <tr style=\"text-align: right;\">\n",
       "      <th></th>\n",
       "      <th>Taxon</th>\n",
       "      <th>Confidence</th>\n",
       "    </tr>\n",
       "    <tr>\n",
       "      <th>Feature ID</th>\n",
       "      <th></th>\n",
       "      <th></th>\n",
       "    </tr>\n",
       "  </thead>\n",
       "  <tbody>\n",
       "    <tr>\n",
       "      <th>ffc36e27c82042664a16bcd4d380b286</th>\n",
       "      <td>d__Bacteria; p__Proteobacteria; c__Gammaproteobacteria; o__Enterobacterales; f__Enterobacteriaceae; g__Escherichia-Shigella</td>\n",
       "      <td>0.956551</td>\n",
       "    </tr>\n",
       "    <tr>\n",
       "      <th>8b74089f59b28e641f2c8c736707f8b2</th>\n",
       "      <td>d__Bacteria; p__Proteobacteria; c__Gammaproteobacteria; o__Enterobacterales; f__Enterobacteriaceae</td>\n",
       "      <td>0.983065</td>\n",
       "    </tr>\n",
       "    <tr>\n",
       "      <th>35451ef9f1742fae59aa48d51c7075de</th>\n",
       "      <td>d__Bacteria; p__Firmicutes; c__Bacilli; o__Bacillales; f__Bacillaceae; g__Bacillus</td>\n",
       "      <td>0.999482</td>\n",
       "    </tr>\n",
       "    <tr>\n",
       "      <th>1a600af5baa1803c1dbb249a706fa875</th>\n",
       "      <td>d__Bacteria; p__Chloroflexi; c__Anaerolineae; o__uncultured; f__uncultured; g__uncultured</td>\n",
       "      <td>0.976027</td>\n",
       "    </tr>\n",
       "    <tr>\n",
       "      <th>4394468b49611f78b96b64d72449fab5</th>\n",
       "      <td>d__Bacteria; p__Firmicutes; c__Bacilli; o__Lactobacillales; f__Lactobacillaceae; g__Lactobacillus; s__Lactobacillus_fermentum</td>\n",
       "      <td>0.897128</td>\n",
       "    </tr>\n",
       "  </tbody>\n",
       "</table>\n",
       "</div>"
      ],
      "text/plain": [
       "                                                                                                                                                          Taxon  \\\n",
       "Feature ID                                                                                                                                                        \n",
       "ffc36e27c82042664a16bcd4d380b286    d__Bacteria; p__Proteobacteria; c__Gammaproteobacteria; o__Enterobacterales; f__Enterobacteriaceae; g__Escherichia-Shigella   \n",
       "8b74089f59b28e641f2c8c736707f8b2                             d__Bacteria; p__Proteobacteria; c__Gammaproteobacteria; o__Enterobacterales; f__Enterobacteriaceae   \n",
       "35451ef9f1742fae59aa48d51c7075de                                             d__Bacteria; p__Firmicutes; c__Bacilli; o__Bacillales; f__Bacillaceae; g__Bacillus   \n",
       "1a600af5baa1803c1dbb249a706fa875                                      d__Bacteria; p__Chloroflexi; c__Anaerolineae; o__uncultured; f__uncultured; g__uncultured   \n",
       "4394468b49611f78b96b64d72449fab5  d__Bacteria; p__Firmicutes; c__Bacilli; o__Lactobacillales; f__Lactobacillaceae; g__Lactobacillus; s__Lactobacillus_fermentum   \n",
       "\n",
       "                                  Confidence  \n",
       "Feature ID                                    \n",
       "ffc36e27c82042664a16bcd4d380b286    0.956551  \n",
       "8b74089f59b28e641f2c8c736707f8b2    0.983065  \n",
       "35451ef9f1742fae59aa48d51c7075de    0.999482  \n",
       "1a600af5baa1803c1dbb249a706fa875    0.976027  \n",
       "4394468b49611f78b96b64d72449fab5    0.897128  "
      ]
     },
     "execution_count": 5,
     "metadata": {},
     "output_type": "execute_result"
    }
   ],
   "source": [
    "taxo = pd.read_csv(\"input_folder/KS/taxonomy.tsv\", sep = \"\\t\", index_col = 0)\n",
    "taxo.head()"
   ]
  },
  {
   "cell_type": "code",
   "execution_count": 6,
   "id": "df3fba6d-528a-4a00-869d-b92ce7b1759b",
   "metadata": {
    "tags": []
   },
   "outputs": [
    {
     "data": {
      "text/plain": [
       "['d__Archaea',\n",
       " 'd__Archaea; p__Aenigmarchaeota; c__Aenigmarchaeia; o__Aenigmarchaeales; f__Aenigmarchaeales; g__Aenigmarchaeales; s__uncultured_archaeon',\n",
       " 'd__Archaea; p__Aenigmarchaeota; c__Aenigmarchaeia; o__Aenigmarchaeales; f__Aenigmarchaeales; g__Candidatus_Aenigmarchaeum; s__uncultured_archaeon',\n",
       " 'd__Archaea; p__Crenarchaeota; c__Bathyarchaeia; o__Bathyarchaeia; f__Bathyarchaeia; g__Bathyarchaeia; s__uncultured_archaeon',\n",
       " 'd__Archaea; p__Nanoarchaeota; c__Nanoarchaeia; o__Woesearchaeales; f__GW2011_GWC1_47_15; g__GW2011_GWC1_47_15; s__uncultured_archaeon',\n",
       " 'd__Archaea; p__Nanoarchaeota; c__Nanoarchaeia; o__Woesearchaeales; f__SCGC_AAA011-D5; g__SCGC_AAA011-D5',\n",
       " 'd__Archaea; p__Nanoarchaeota; c__Nanoarchaeia; o__Woesearchaeales; f__SCGC_AAA011-D5; g__SCGC_AAA011-D5; s__Candidatus_Pacearchaeota',\n",
       " 'd__Archaea; p__Nanoarchaeota; c__Nanoarchaeia; o__Woesearchaeales; f__SCGC_AAA011-D5; g__SCGC_AAA011-D5; s__uncultured_archaeon',\n",
       " 'd__Archaea; p__Nanoarchaeota; c__Nanoarchaeia; o__Woesearchaeales; f__SCGC_AAA011-D5; g__SCGC_AAA011-D5; s__uncultured_euryarchaeote',\n",
       " 'd__Archaea; p__Nanoarchaeota; c__Nanoarchaeia; o__Woesearchaeales; f__Woesearchaeales; g__Woesearchaeales',\n",
       " 'd__Archaea; p__Nanoarchaeota; c__Nanoarchaeia; o__Woesearchaeales; f__Woesearchaeales; g__Woesearchaeales; s__uncultured_crenarchaeote',\n",
       " 'd__Bacteria',\n",
       " 'd__Bacteria; p__Patescibacteria',\n",
       " 'd__Bacteria; p__Patescibacteria; c__ABY1; o__Candidatus_Kerfeldbacteria; f__Candidatus_Kerfeldbacteria; g__Candidatus_Kerfeldbacteria; s__uncultured_bacterium',\n",
       " 'd__Bacteria; p__Patescibacteria; c__Microgenomatia; o__Candidatus_Woesebacteria; f__Candidatus_Woesebacteria; g__Candidatus_Woesebacteria',\n",
       " 'd__Bacteria; p__Patescibacteria; c__Microgenomatia; o__Candidatus_Woesebacteria; f__Candidatus_Woesebacteria; g__Candidatus_Woesebacteria; s__uncultured_bacterium',\n",
       " 'd__Bacteria; p__Patescibacteria; c__Parcubacteria',\n",
       " 'd__Bacteria; p__Patescibacteria; c__Parcubacteria; o__Candidatus_Yanofskybacteria; f__Candidatus_Yanofskybacteria; g__Candidatus_Yanofskybacteria; s__uncultured_bacterium',\n",
       " 'd__Bacteria; p__Patescibacteria; c__Parcubacteria; o__Paceibacterales; f__Paceibacteraceae; g__Candidatus_Paceibacter; s__uncultured_bacterium',\n",
       " 'd__Bacteria; p__Patescibacteria; c__Parcubacteria; o__Parcubacteria; f__Parcubacteria; g__Parcubacteria; s__uncultured_bacterium',\n",
       " 'd__Bacteria; p__Planctomycetota',\n",
       " 'd__Bacteria; p__Sumerlaeota; c__Sumerlaeia; o__uncultured; f__uncultured; g__uncultured; s__uncultured_bacterium']"
      ]
     },
     "execution_count": 6,
     "metadata": {},
     "output_type": "execute_result"
    }
   ],
   "source": [
    "sorted(\n",
    "    taxo.loc[\n",
    "        df.loc[df[\"metadata_NSTI\"] > 2, :].index.tolist(), :\n",
    "    ].value_counts(\"Taxon\").index.tolist()\n",
    ")"
   ]
  },
  {
   "cell_type": "code",
   "execution_count": 7,
   "id": "4014be12-2f1a-4c7c-83fd-747c41144359",
   "metadata": {
    "tags": []
   },
   "outputs": [
    {
     "data": {
      "text/html": [
       "<div>\n",
       "<style scoped>\n",
       "    .dataframe tbody tr th:only-of-type {\n",
       "        vertical-align: middle;\n",
       "    }\n",
       "\n",
       "    .dataframe tbody tr th {\n",
       "        vertical-align: top;\n",
       "    }\n",
       "\n",
       "    .dataframe thead th {\n",
       "        text-align: right;\n",
       "    }\n",
       "</style>\n",
       "<table border=\"1\" class=\"dataframe\">\n",
       "  <thead>\n",
       "    <tr style=\"text-align: right;\">\n",
       "      <th></th>\n",
       "      <th>Number of ASVs</th>\n",
       "    </tr>\n",
       "    <tr>\n",
       "      <th>Taxon</th>\n",
       "      <th></th>\n",
       "    </tr>\n",
       "  </thead>\n",
       "  <tbody>\n",
       "    <tr>\n",
       "      <th>d__Archaea</th>\n",
       "      <td>3</td>\n",
       "    </tr>\n",
       "    <tr>\n",
       "      <th>d__Archaea; p__Aenigmarchaeota; c__Aenigmarchaeia; o__Aenigmarchaeales; f__Aenigmarchaeales; g__Aenigmarchaeales; s__uncultured_archaeon</th>\n",
       "      <td>4</td>\n",
       "    </tr>\n",
       "    <tr>\n",
       "      <th>d__Archaea; p__Aenigmarchaeota; c__Aenigmarchaeia; o__Aenigmarchaeales; f__Aenigmarchaeales; g__Candidatus_Aenigmarchaeum; s__uncultured_archaeon</th>\n",
       "      <td>2</td>\n",
       "    </tr>\n",
       "    <tr>\n",
       "      <th>d__Archaea; p__Crenarchaeota; c__Bathyarchaeia; o__Bathyarchaeia; f__Bathyarchaeia; g__Bathyarchaeia; s__uncultured_archaeon</th>\n",
       "      <td>1</td>\n",
       "    </tr>\n",
       "    <tr>\n",
       "      <th>d__Archaea; p__Nanoarchaeota; c__Nanoarchaeia; o__Woesearchaeales; f__GW2011_GWC1_47_15; g__GW2011_GWC1_47_15; s__uncultured_archaeon</th>\n",
       "      <td>1</td>\n",
       "    </tr>\n",
       "    <tr>\n",
       "      <th>d__Archaea; p__Nanoarchaeota; c__Nanoarchaeia; o__Woesearchaeales; f__SCGC_AAA011-D5; g__SCGC_AAA011-D5</th>\n",
       "      <td>4</td>\n",
       "    </tr>\n",
       "    <tr>\n",
       "      <th>d__Archaea; p__Nanoarchaeota; c__Nanoarchaeia; o__Woesearchaeales; f__SCGC_AAA011-D5; g__SCGC_AAA011-D5; s__Candidatus_Pacearchaeota</th>\n",
       "      <td>1</td>\n",
       "    </tr>\n",
       "    <tr>\n",
       "      <th>d__Archaea; p__Nanoarchaeota; c__Nanoarchaeia; o__Woesearchaeales; f__SCGC_AAA011-D5; g__SCGC_AAA011-D5; s__uncultured_archaeon</th>\n",
       "      <td>1</td>\n",
       "    </tr>\n",
       "    <tr>\n",
       "      <th>d__Archaea; p__Nanoarchaeota; c__Nanoarchaeia; o__Woesearchaeales; f__SCGC_AAA011-D5; g__SCGC_AAA011-D5; s__uncultured_euryarchaeote</th>\n",
       "      <td>4</td>\n",
       "    </tr>\n",
       "    <tr>\n",
       "      <th>d__Archaea; p__Nanoarchaeota; c__Nanoarchaeia; o__Woesearchaeales; f__Woesearchaeales; g__Woesearchaeales</th>\n",
       "      <td>2</td>\n",
       "    </tr>\n",
       "    <tr>\n",
       "      <th>d__Archaea; p__Nanoarchaeota; c__Nanoarchaeia; o__Woesearchaeales; f__Woesearchaeales; g__Woesearchaeales; s__uncultured_crenarchaeote</th>\n",
       "      <td>1</td>\n",
       "    </tr>\n",
       "    <tr>\n",
       "      <th>d__Bacteria</th>\n",
       "      <td>1</td>\n",
       "    </tr>\n",
       "    <tr>\n",
       "      <th>d__Bacteria; p__Patescibacteria</th>\n",
       "      <td>4</td>\n",
       "    </tr>\n",
       "    <tr>\n",
       "      <th>d__Bacteria; p__Patescibacteria; c__ABY1; o__Candidatus_Kerfeldbacteria; f__Candidatus_Kerfeldbacteria; g__Candidatus_Kerfeldbacteria; s__uncultured_bacterium</th>\n",
       "      <td>2</td>\n",
       "    </tr>\n",
       "    <tr>\n",
       "      <th>d__Bacteria; p__Patescibacteria; c__Microgenomatia; o__Candidatus_Woesebacteria; f__Candidatus_Woesebacteria; g__Candidatus_Woesebacteria</th>\n",
       "      <td>1</td>\n",
       "    </tr>\n",
       "    <tr>\n",
       "      <th>d__Bacteria; p__Patescibacteria; c__Microgenomatia; o__Candidatus_Woesebacteria; f__Candidatus_Woesebacteria; g__Candidatus_Woesebacteria; s__uncultured_bacterium</th>\n",
       "      <td>2</td>\n",
       "    </tr>\n",
       "    <tr>\n",
       "      <th>d__Bacteria; p__Patescibacteria; c__Parcubacteria</th>\n",
       "      <td>1</td>\n",
       "    </tr>\n",
       "    <tr>\n",
       "      <th>d__Bacteria; p__Patescibacteria; c__Parcubacteria; o__Candidatus_Yanofskybacteria; f__Candidatus_Yanofskybacteria; g__Candidatus_Yanofskybacteria; s__uncultured_bacterium</th>\n",
       "      <td>1</td>\n",
       "    </tr>\n",
       "    <tr>\n",
       "      <th>d__Bacteria; p__Patescibacteria; c__Parcubacteria; o__Paceibacterales; f__Paceibacteraceae; g__Candidatus_Paceibacter; s__uncultured_bacterium</th>\n",
       "      <td>4</td>\n",
       "    </tr>\n",
       "    <tr>\n",
       "      <th>d__Bacteria; p__Patescibacteria; c__Parcubacteria; o__Parcubacteria; f__Parcubacteria; g__Parcubacteria; s__uncultured_bacterium</th>\n",
       "      <td>2</td>\n",
       "    </tr>\n",
       "    <tr>\n",
       "      <th>d__Bacteria; p__Planctomycetota</th>\n",
       "      <td>1</td>\n",
       "    </tr>\n",
       "    <tr>\n",
       "      <th>d__Bacteria; p__Sumerlaeota; c__Sumerlaeia; o__uncultured; f__uncultured; g__uncultured; s__uncultured_bacterium</th>\n",
       "      <td>1</td>\n",
       "    </tr>\n",
       "  </tbody>\n",
       "</table>\n",
       "</div>"
      ],
      "text/plain": [
       "                                                                                                                                                                            Number of ASVs\n",
       "Taxon                                                                                                                                                                                     \n",
       "d__Archaea                                                                                                                                                                               3\n",
       "d__Archaea; p__Aenigmarchaeota; c__Aenigmarchaeia; o__Aenigmarchaeales; f__Aenigmarchaeales; g__Aenigmarchaeales; s__uncultured_archaeon                                                 4\n",
       "d__Archaea; p__Aenigmarchaeota; c__Aenigmarchaeia; o__Aenigmarchaeales; f__Aenigmarchaeales; g__Candidatus_Aenigmarchaeum; s__uncultured_archaeon                                        2\n",
       "d__Archaea; p__Crenarchaeota; c__Bathyarchaeia; o__Bathyarchaeia; f__Bathyarchaeia; g__Bathyarchaeia; s__uncultured_archaeon                                                             1\n",
       "d__Archaea; p__Nanoarchaeota; c__Nanoarchaeia; o__Woesearchaeales; f__GW2011_GWC1_47_15; g__GW2011_GWC1_47_15; s__uncultured_archaeon                                                    1\n",
       "d__Archaea; p__Nanoarchaeota; c__Nanoarchaeia; o__Woesearchaeales; f__SCGC_AAA011-D5; g__SCGC_AAA011-D5                                                                                  4\n",
       "d__Archaea; p__Nanoarchaeota; c__Nanoarchaeia; o__Woesearchaeales; f__SCGC_AAA011-D5; g__SCGC_AAA011-D5; s__Candidatus_Pacearchaeota                                                     1\n",
       "d__Archaea; p__Nanoarchaeota; c__Nanoarchaeia; o__Woesearchaeales; f__SCGC_AAA011-D5; g__SCGC_AAA011-D5; s__uncultured_archaeon                                                          1\n",
       "d__Archaea; p__Nanoarchaeota; c__Nanoarchaeia; o__Woesearchaeales; f__SCGC_AAA011-D5; g__SCGC_AAA011-D5; s__uncultured_euryarchaeote                                                     4\n",
       "d__Archaea; p__Nanoarchaeota; c__Nanoarchaeia; o__Woesearchaeales; f__Woesearchaeales; g__Woesearchaeales                                                                                2\n",
       "d__Archaea; p__Nanoarchaeota; c__Nanoarchaeia; o__Woesearchaeales; f__Woesearchaeales; g__Woesearchaeales; s__uncultured_crenarchaeote                                                   1\n",
       "d__Bacteria                                                                                                                                                                              1\n",
       "d__Bacteria; p__Patescibacteria                                                                                                                                                          4\n",
       "d__Bacteria; p__Patescibacteria; c__ABY1; o__Candidatus_Kerfeldbacteria; f__Candidatus_Kerfeldbacteria; g__Candidatus_Kerfeldbacteria; s__uncultured_bacterium                           2\n",
       "d__Bacteria; p__Patescibacteria; c__Microgenomatia; o__Candidatus_Woesebacteria; f__Candidatus_Woesebacteria; g__Candidatus_Woesebacteria                                                1\n",
       "d__Bacteria; p__Patescibacteria; c__Microgenomatia; o__Candidatus_Woesebacteria; f__Candidatus_Woesebacteria; g__Candidatus_Woesebacteria; s__uncultured_bacterium                       2\n",
       "d__Bacteria; p__Patescibacteria; c__Parcubacteria                                                                                                                                        1\n",
       "d__Bacteria; p__Patescibacteria; c__Parcubacteria; o__Candidatus_Yanofskybacteria; f__Candidatus_Yanofskybacteria; g__Candidatus_Yanofskybacteria; s__uncultured_bacterium               1\n",
       "d__Bacteria; p__Patescibacteria; c__Parcubacteria; o__Paceibacterales; f__Paceibacteraceae; g__Candidatus_Paceibacter; s__uncultured_bacterium                                           4\n",
       "d__Bacteria; p__Patescibacteria; c__Parcubacteria; o__Parcubacteria; f__Parcubacteria; g__Parcubacteria; s__uncultured_bacterium                                                         2\n",
       "d__Bacteria; p__Planctomycetota                                                                                                                                                          1\n",
       "d__Bacteria; p__Sumerlaeota; c__Sumerlaeia; o__uncultured; f__uncultured; g__uncultured; s__uncultured_bacterium                                                                         1"
      ]
     },
     "execution_count": 7,
     "metadata": {},
     "output_type": "execute_result"
    }
   ],
   "source": [
    "a = pd.DataFrame(\n",
    "    taxo.loc[\n",
    "            df.loc[df[\"metadata_NSTI\"] > 2, :].index.tolist(), :\n",
    "        ].value_counts(\"Taxon\")\n",
    ")\n",
    "\n",
    "a.columns = [\"Number of ASVs\"]\n",
    "a = a.loc[sorted(a.index.tolist()), :]\n",
    "a"
   ]
  },
  {
   "cell_type": "code",
   "execution_count": 10,
   "id": "c96a621e-0e94-4a1c-8728-ac65e39787dc",
   "metadata": {
    "tags": []
   },
   "outputs": [
    {
     "data": {
      "application/vnd.jupyter.widget-view+json": {
       "model_id": "c732e0adbdeb4c1ba64df58023ad970f",
       "version_major": 2,
       "version_minor": 0
      },
      "text/plain": [
       "interactive(children=(Dropdown(description='Select Metadata:', options=('uniqID', 'filename_prefix', 'temperat…"
      ]
     },
     "metadata": {},
     "output_type": "display_data"
    }
   ],
   "source": [
    "pca_df = pd.read_csv(\"input_folder/KS/functional_metagenome/KO/pca.tsv\", sep = \"\\t\")\n",
    "metadata_dropdown = widgets.Dropdown(options=list(meta.columns), description='Select Metadata:')\n",
    "\n",
    "def update_color(selected_metadata):\n",
    "    fig = px.scatter(pca_df, x='PC1', y='PC2',\n",
    "                     color = selected_metadata,\n",
    "                     text='uniqID', title='PCA Analysis')\n",
    "    fig.update_traces(textposition='top center')\n",
    "    fig.update_layout(width = 700, height = 600)\n",
    "    fig.show()\n",
    "\n",
    "# Observe the changes and update the plot on metadata selection\n",
    "widgets.interactive(update_color, selected_metadata=metadata_dropdown)"
   ]
  },
  {
   "cell_type": "code",
   "execution_count": 12,
   "id": "5de0f647-3aa0-4ced-a4d9-d5821962f498",
   "metadata": {
    "tags": []
   },
   "outputs": [
    {
     "data": {
      "application/vnd.jupyter.widget-view+json": {
       "model_id": "b6bfdd0e26164585914ab4a26e784ebe",
       "version_major": 2,
       "version_minor": 0
      },
      "text/plain": [
       "interactive(children=(Dropdown(description='Select Metadata:', options=('uniqID', 'filename_prefix', 'temperat…"
      ]
     },
     "metadata": {},
     "output_type": "display_data"
    }
   ],
   "source": [
    "pca_df = pd.read_csv(\"input_folder/KS/functional_metagenome/KO/bray_pca.tsv\", sep = \"\\t\")\n",
    "metadata_dropdown = widgets.Dropdown(options=list(meta.columns), description='Select Metadata:')\n",
    "\n",
    "def update_color(selected_metadata):\n",
    "    fig = px.scatter(pca_df, x='PC1', y='PC2',\n",
    "                     color = selected_metadata,\n",
    "                     text='uniqID', title='Bray Curtis + PCA Analysis')\n",
    "    fig.update_traces(textposition='top center')\n",
    "    fig.update_layout(width = 700, height = 600)\n",
    "    fig.show()\n",
    "\n",
    "# Observe the changes and update the plot on metadata selection\n",
    "widgets.interactive(update_color, selected_metadata=metadata_dropdown)"
   ]
  },
  {
   "cell_type": "code",
   "execution_count": 13,
   "id": "2a40db92-191f-4b7d-95b6-f0c22432c8eb",
   "metadata": {
    "tags": []
   },
   "outputs": [
    {
     "data": {
      "application/vnd.jupyter.widget-view+json": {
       "model_id": "55c1de1eb06d43d1ad7eb4dcc1d7319e",
       "version_major": 2,
       "version_minor": 0
      },
      "text/plain": [
       "interactive(children=(Dropdown(description='Select Metadata:', options=('uniqID', 'filename_prefix', 'temperat…"
      ]
     },
     "metadata": {},
     "output_type": "display_data"
    }
   ],
   "source": [
    "pca_df = pd.read_csv(\"input_folder/KS/functional_metagenome/KO/umap.tsv\", sep = \"\\t\")\n",
    "metadata_dropdown = widgets.Dropdown(options=list(meta.columns), description='Select Metadata:')\n",
    "\n",
    "def update_color(selected_metadata):\n",
    "    fig = px.scatter(pca_df, x='UMAP1', y='UMAP2',\n",
    "                     color = selected_metadata,\n",
    "                     text='uniqID', title='UMAP Analysis')\n",
    "    fig.update_traces(textposition='top center')\n",
    "    fig.update_layout(width = 700, height = 600)\n",
    "    fig.show()\n",
    "\n",
    "# Observe the changes and update the plot on metadata selection\n",
    "widgets.interactive(update_color, selected_metadata=metadata_dropdown)"
   ]
  },
  {
   "cell_type": "code",
   "execution_count": 15,
   "id": "9c69ac55-2beb-46a8-8a4f-f5c9a6be6b9b",
   "metadata": {
    "tags": []
   },
   "outputs": [
    {
     "data": {
      "application/vnd.jupyter.widget-view+json": {
       "model_id": "597064e55ca9434688f9e6cc27c0cf12",
       "version_major": 2,
       "version_minor": 0
      },
      "text/plain": [
       "interactive(children=(Dropdown(description='Select Metadata:', options=('uniqID', 'filename_prefix', 'temperat…"
      ]
     },
     "metadata": {},
     "output_type": "display_data"
    }
   ],
   "source": [
    "pca_df = pd.read_csv(\"input_folder/KS/functional_metagenome/KO/bray_umap.tsv\", sep = \"\\t\")\n",
    "metadata_dropdown = widgets.Dropdown(options=list(meta.columns), description='Select Metadata:')\n",
    "\n",
    "def update_color(selected_metadata):\n",
    "    fig = px.scatter(pca_df, x='UMAP1', y='UMAP2',\n",
    "                     color = selected_metadata,\n",
    "                     text='uniqID', title='Bray Curtis + UMAP Analysis')\n",
    "    fig.update_traces(textposition='top center')\n",
    "    fig.update_layout(width = 700, height = 600)\n",
    "    fig.show()\n",
    "\n",
    "# Observe the changes and update the plot on metadata selection\n",
    "widgets.interactive(update_color, selected_metadata=metadata_dropdown)"
   ]
  }
 ],
 "metadata": {
  "kernelspec": {
   "display_name": "Python 3 (ipykernel)",
   "language": "python",
   "name": "python3"
  },
  "language_info": {
   "codemirror_mode": {
    "name": "ipython",
    "version": 3
   },
   "file_extension": ".py",
   "mimetype": "text/x-python",
   "name": "python",
   "nbconvert_exporter": "python",
   "pygments_lexer": "ipython3",
   "version": "3.9.16"
  }
 },
 "nbformat": 4,
 "nbformat_minor": 5
}
