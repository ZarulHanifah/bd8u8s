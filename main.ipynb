{
 "cells": [
  {
   "cell_type": "code",
   "execution_count": 1,
   "id": "33655264-1486-4c44-a3ff-6d6c051d70f5",
   "metadata": {
    "tags": []
   },
   "outputs": [],
   "source": [
    "import pandas as pd\n",
    "import numpy as np\n",
    "import re\n",
    "\n",
    "import plotly.express as px\n",
    "import ipywidgets as widgets\n",
    "\n",
    "pd.set_option(\"display.max_colwidth\", None)\n",
    "pd.set_option(\"display.max_columns\", None)"
   ]
  },
  {
   "cell_type": "code",
   "execution_count": 2,
   "id": "b9d995b3-2fb0-432a-9518-2f27e7e5f455",
   "metadata": {
    "tags": []
   },
   "outputs": [],
   "source": [
    "meta = pd.read_csv(\"./input_folder/KS/meta_final2.tsv\", sep = \"\\t\", index_col = 0)\n",
    "rename_to = {v: k for k, v in meta[\"old_name\"].to_dict().items()}"
   ]
  },
  {
   "cell_type": "code",
   "execution_count": 3,
   "id": "7f073937-f6c0-497d-af68-ceae8899fef8",
   "metadata": {
    "tags": []
   },
   "outputs": [],
   "source": [
    "path = \"input_folder/KS/16S_predicted.tsv.gz\"\n",
    "df = pd.read_csv(path, compression=\"gzip\", header=0, sep=\"\\t\", index_col = 0)\n",
    "df.sort_values(\"16S_rRNA_Count\", ascending = False, inplace = True)"
   ]
  },
  {
   "cell_type": "code",
   "execution_count": 4,
   "id": "d98a68cf-a8d0-4bfd-a689-748c7f2ed9d6",
   "metadata": {
    "tags": []
   },
   "outputs": [],
   "source": [
    "taxo = pd.read_csv(\"input_folder/KS/taxonomy.tsv\", sep = \"\\t\", index_col = 0)"
   ]
  },
  {
   "cell_type": "markdown",
   "id": "3e6213a0-fb54-4502-a254-f362ba9d773f",
   "metadata": {},
   "source": [
    "## Taxonomy with NSTI value above 2"
   ]
  },
  {
   "cell_type": "code",
   "execution_count": 5,
   "id": "4014be12-2f1a-4c7c-83fd-747c41144359",
   "metadata": {
    "tags": []
   },
   "outputs": [
    {
     "data": {
      "text/html": [
       "<div>\n",
       "<style scoped>\n",
       "    .dataframe tbody tr th:only-of-type {\n",
       "        vertical-align: middle;\n",
       "    }\n",
       "\n",
       "    .dataframe tbody tr th {\n",
       "        vertical-align: top;\n",
       "    }\n",
       "\n",
       "    .dataframe thead th {\n",
       "        text-align: right;\n",
       "    }\n",
       "</style>\n",
       "<table border=\"1\" class=\"dataframe\">\n",
       "  <thead>\n",
       "    <tr style=\"text-align: right;\">\n",
       "      <th></th>\n",
       "      <th>Number of ASVs</th>\n",
       "    </tr>\n",
       "    <tr>\n",
       "      <th>Taxon</th>\n",
       "      <th></th>\n",
       "    </tr>\n",
       "  </thead>\n",
       "  <tbody>\n",
       "    <tr>\n",
       "      <th>d__Archaea</th>\n",
       "      <td>3</td>\n",
       "    </tr>\n",
       "    <tr>\n",
       "      <th>d__Archaea; p__Aenigmarchaeota; c__Aenigmarchaeia; o__Aenigmarchaeales; f__Aenigmarchaeales; g__Aenigmarchaeales; s__uncultured_archaeon</th>\n",
       "      <td>4</td>\n",
       "    </tr>\n",
       "    <tr>\n",
       "      <th>d__Archaea; p__Aenigmarchaeota; c__Aenigmarchaeia; o__Aenigmarchaeales; f__Aenigmarchaeales; g__Candidatus_Aenigmarchaeum; s__uncultured_archaeon</th>\n",
       "      <td>2</td>\n",
       "    </tr>\n",
       "    <tr>\n",
       "      <th>d__Archaea; p__Crenarchaeota; c__Bathyarchaeia; o__Bathyarchaeia; f__Bathyarchaeia; g__Bathyarchaeia; s__uncultured_archaeon</th>\n",
       "      <td>1</td>\n",
       "    </tr>\n",
       "    <tr>\n",
       "      <th>d__Archaea; p__Nanoarchaeota; c__Nanoarchaeia; o__Woesearchaeales; f__GW2011_GWC1_47_15; g__GW2011_GWC1_47_15; s__uncultured_archaeon</th>\n",
       "      <td>1</td>\n",
       "    </tr>\n",
       "    <tr>\n",
       "      <th>d__Archaea; p__Nanoarchaeota; c__Nanoarchaeia; o__Woesearchaeales; f__SCGC_AAA011-D5; g__SCGC_AAA011-D5</th>\n",
       "      <td>4</td>\n",
       "    </tr>\n",
       "    <tr>\n",
       "      <th>d__Archaea; p__Nanoarchaeota; c__Nanoarchaeia; o__Woesearchaeales; f__SCGC_AAA011-D5; g__SCGC_AAA011-D5; s__Candidatus_Pacearchaeota</th>\n",
       "      <td>1</td>\n",
       "    </tr>\n",
       "    <tr>\n",
       "      <th>d__Archaea; p__Nanoarchaeota; c__Nanoarchaeia; o__Woesearchaeales; f__SCGC_AAA011-D5; g__SCGC_AAA011-D5; s__uncultured_archaeon</th>\n",
       "      <td>1</td>\n",
       "    </tr>\n",
       "    <tr>\n",
       "      <th>d__Archaea; p__Nanoarchaeota; c__Nanoarchaeia; o__Woesearchaeales; f__SCGC_AAA011-D5; g__SCGC_AAA011-D5; s__uncultured_euryarchaeote</th>\n",
       "      <td>4</td>\n",
       "    </tr>\n",
       "    <tr>\n",
       "      <th>d__Archaea; p__Nanoarchaeota; c__Nanoarchaeia; o__Woesearchaeales; f__Woesearchaeales; g__Woesearchaeales</th>\n",
       "      <td>2</td>\n",
       "    </tr>\n",
       "    <tr>\n",
       "      <th>d__Archaea; p__Nanoarchaeota; c__Nanoarchaeia; o__Woesearchaeales; f__Woesearchaeales; g__Woesearchaeales; s__uncultured_crenarchaeote</th>\n",
       "      <td>1</td>\n",
       "    </tr>\n",
       "    <tr>\n",
       "      <th>d__Bacteria</th>\n",
       "      <td>1</td>\n",
       "    </tr>\n",
       "    <tr>\n",
       "      <th>d__Bacteria; p__Patescibacteria</th>\n",
       "      <td>4</td>\n",
       "    </tr>\n",
       "    <tr>\n",
       "      <th>d__Bacteria; p__Patescibacteria; c__ABY1; o__Candidatus_Kerfeldbacteria; f__Candidatus_Kerfeldbacteria; g__Candidatus_Kerfeldbacteria; s__uncultured_bacterium</th>\n",
       "      <td>2</td>\n",
       "    </tr>\n",
       "    <tr>\n",
       "      <th>d__Bacteria; p__Patescibacteria; c__Microgenomatia; o__Candidatus_Woesebacteria; f__Candidatus_Woesebacteria; g__Candidatus_Woesebacteria</th>\n",
       "      <td>1</td>\n",
       "    </tr>\n",
       "    <tr>\n",
       "      <th>d__Bacteria; p__Patescibacteria; c__Microgenomatia; o__Candidatus_Woesebacteria; f__Candidatus_Woesebacteria; g__Candidatus_Woesebacteria; s__uncultured_bacterium</th>\n",
       "      <td>2</td>\n",
       "    </tr>\n",
       "    <tr>\n",
       "      <th>d__Bacteria; p__Patescibacteria; c__Parcubacteria</th>\n",
       "      <td>1</td>\n",
       "    </tr>\n",
       "    <tr>\n",
       "      <th>d__Bacteria; p__Patescibacteria; c__Parcubacteria; o__Candidatus_Yanofskybacteria; f__Candidatus_Yanofskybacteria; g__Candidatus_Yanofskybacteria; s__uncultured_bacterium</th>\n",
       "      <td>1</td>\n",
       "    </tr>\n",
       "    <tr>\n",
       "      <th>d__Bacteria; p__Patescibacteria; c__Parcubacteria; o__Paceibacterales; f__Paceibacteraceae; g__Candidatus_Paceibacter; s__uncultured_bacterium</th>\n",
       "      <td>4</td>\n",
       "    </tr>\n",
       "    <tr>\n",
       "      <th>d__Bacteria; p__Patescibacteria; c__Parcubacteria; o__Parcubacteria; f__Parcubacteria; g__Parcubacteria; s__uncultured_bacterium</th>\n",
       "      <td>2</td>\n",
       "    </tr>\n",
       "    <tr>\n",
       "      <th>d__Bacteria; p__Planctomycetota</th>\n",
       "      <td>1</td>\n",
       "    </tr>\n",
       "    <tr>\n",
       "      <th>d__Bacteria; p__Sumerlaeota; c__Sumerlaeia; o__uncultured; f__uncultured; g__uncultured; s__uncultured_bacterium</th>\n",
       "      <td>1</td>\n",
       "    </tr>\n",
       "  </tbody>\n",
       "</table>\n",
       "</div>"
      ],
      "text/plain": [
       "                                                                                                                                                                            Number of ASVs\n",
       "Taxon                                                                                                                                                                                     \n",
       "d__Archaea                                                                                                                                                                               3\n",
       "d__Archaea; p__Aenigmarchaeota; c__Aenigmarchaeia; o__Aenigmarchaeales; f__Aenigmarchaeales; g__Aenigmarchaeales; s__uncultured_archaeon                                                 4\n",
       "d__Archaea; p__Aenigmarchaeota; c__Aenigmarchaeia; o__Aenigmarchaeales; f__Aenigmarchaeales; g__Candidatus_Aenigmarchaeum; s__uncultured_archaeon                                        2\n",
       "d__Archaea; p__Crenarchaeota; c__Bathyarchaeia; o__Bathyarchaeia; f__Bathyarchaeia; g__Bathyarchaeia; s__uncultured_archaeon                                                             1\n",
       "d__Archaea; p__Nanoarchaeota; c__Nanoarchaeia; o__Woesearchaeales; f__GW2011_GWC1_47_15; g__GW2011_GWC1_47_15; s__uncultured_archaeon                                                    1\n",
       "d__Archaea; p__Nanoarchaeota; c__Nanoarchaeia; o__Woesearchaeales; f__SCGC_AAA011-D5; g__SCGC_AAA011-D5                                                                                  4\n",
       "d__Archaea; p__Nanoarchaeota; c__Nanoarchaeia; o__Woesearchaeales; f__SCGC_AAA011-D5; g__SCGC_AAA011-D5; s__Candidatus_Pacearchaeota                                                     1\n",
       "d__Archaea; p__Nanoarchaeota; c__Nanoarchaeia; o__Woesearchaeales; f__SCGC_AAA011-D5; g__SCGC_AAA011-D5; s__uncultured_archaeon                                                          1\n",
       "d__Archaea; p__Nanoarchaeota; c__Nanoarchaeia; o__Woesearchaeales; f__SCGC_AAA011-D5; g__SCGC_AAA011-D5; s__uncultured_euryarchaeote                                                     4\n",
       "d__Archaea; p__Nanoarchaeota; c__Nanoarchaeia; o__Woesearchaeales; f__Woesearchaeales; g__Woesearchaeales                                                                                2\n",
       "d__Archaea; p__Nanoarchaeota; c__Nanoarchaeia; o__Woesearchaeales; f__Woesearchaeales; g__Woesearchaeales; s__uncultured_crenarchaeote                                                   1\n",
       "d__Bacteria                                                                                                                                                                              1\n",
       "d__Bacteria; p__Patescibacteria                                                                                                                                                          4\n",
       "d__Bacteria; p__Patescibacteria; c__ABY1; o__Candidatus_Kerfeldbacteria; f__Candidatus_Kerfeldbacteria; g__Candidatus_Kerfeldbacteria; s__uncultured_bacterium                           2\n",
       "d__Bacteria; p__Patescibacteria; c__Microgenomatia; o__Candidatus_Woesebacteria; f__Candidatus_Woesebacteria; g__Candidatus_Woesebacteria                                                1\n",
       "d__Bacteria; p__Patescibacteria; c__Microgenomatia; o__Candidatus_Woesebacteria; f__Candidatus_Woesebacteria; g__Candidatus_Woesebacteria; s__uncultured_bacterium                       2\n",
       "d__Bacteria; p__Patescibacteria; c__Parcubacteria                                                                                                                                        1\n",
       "d__Bacteria; p__Patescibacteria; c__Parcubacteria; o__Candidatus_Yanofskybacteria; f__Candidatus_Yanofskybacteria; g__Candidatus_Yanofskybacteria; s__uncultured_bacterium               1\n",
       "d__Bacteria; p__Patescibacteria; c__Parcubacteria; o__Paceibacterales; f__Paceibacteraceae; g__Candidatus_Paceibacter; s__uncultured_bacterium                                           4\n",
       "d__Bacteria; p__Patescibacteria; c__Parcubacteria; o__Parcubacteria; f__Parcubacteria; g__Parcubacteria; s__uncultured_bacterium                                                         2\n",
       "d__Bacteria; p__Planctomycetota                                                                                                                                                          1\n",
       "d__Bacteria; p__Sumerlaeota; c__Sumerlaeia; o__uncultured; f__uncultured; g__uncultured; s__uncultured_bacterium                                                                         1"
      ]
     },
     "execution_count": 5,
     "metadata": {},
     "output_type": "execute_result"
    }
   ],
   "source": [
    "a = pd.DataFrame(\n",
    "    taxo.loc[\n",
    "            df.loc[df[\"metadata_NSTI\"] > 2, :].index.tolist(), :\n",
    "        ].value_counts(\"Taxon\")\n",
    ")\n",
    "\n",
    "a.columns = [\"Number of ASVs\"]\n",
    "a = a.loc[sorted(a.index.tolist()), :]\n",
    "a"
   ]
  },
  {
   "cell_type": "markdown",
   "id": "6d735db3-0f0e-40d9-88ed-f9dc459b66b5",
   "metadata": {},
   "source": [
    "## Data transformation+ordination on predicted functions (Kegg Ontology)\n",
    "### KS samples only"
   ]
  },
  {
   "cell_type": "code",
   "execution_count": 7,
   "id": "5de0f647-3aa0-4ced-a4d9-d5821962f498",
   "metadata": {
    "tags": []
   },
   "outputs": [
    {
     "data": {
      "application/vnd.jupyter.widget-view+json": {
       "model_id": "e625e9f23672429f9e4d42507eeed51e",
       "version_major": 2,
       "version_minor": 0
      },
      "text/plain": [
       "interactive(children=(Dropdown(description='Select Metadata:', options=('uniqID', 'filename_prefix', 'temperat…"
      ]
     },
     "execution_count": 7,
     "metadata": {},
     "output_type": "execute_result"
    }
   ],
   "source": [
    "bray_pca_df = pd.read_csv(\"input_folder/KS/functional_metagenome/KO/bray_pca.tsv\", sep = \"\\t\")\n",
    "metadata_dropdown_bray_pca = widgets.Dropdown(options=list(meta.columns), description='Select Metadata:')\n",
    "\n",
    "def update_color_bray_pca(selected_metadata):\n",
    "    fig = px.scatter_3d(bray_pca_df, x='PC1', y='PC2', z = \"PC3\",\n",
    "                     color = selected_metadata,\n",
    "                     text='uniqID', title='Bray Curtis + PCA Analysis')\n",
    "    fig.update_traces(textposition='top center')\n",
    "    fig.update_layout(width = 800, height = 800)\n",
    "    fig.show()\n",
    "\n",
    "# Observe the changes and update the plot on metadata selection\n",
    "widgets.interactive(update_color_bray_pca, selected_metadata=metadata_dropdown_bray_pca)"
   ]
  },
  {
   "cell_type": "code",
   "execution_count": null,
   "id": "d1e2b3c2",
   "metadata": {},
   "outputs": [],
   "source": [
    "metadata_dropdown_bray_pca = widgets.Dropdown(options=list(meta.columns),\n",
    "                                              description='Select Metadata:')\n",
    "\n",
    "def update_color_bray_pca(selected_metadata):\n",
    "    fig = px.scatter(bray_pca_df, x='PC1', y='PC2',\n",
    "                     color = selected_metadata,\n",
    "                     text='uniqID', title='Bray Curtis + PCA Analysis')\n",
    "    fig.update_traces(textposition='top center')\n",
    "    fig.update_layout(width = 800, height = 800)\n",
    "    fig.show()\n",
    "\n",
    "# Observe the changes and update the plot on metadata selection\n",
    "widgets.interactive(update_color_bray_pca, selected_metadata=metadata_dropdown_bray_pca)"
   ]
  }
 ],
 "metadata": {
  "kernelspec": {
   "display_name": "Python 3 (ipykernel)",
   "language": "python",
   "name": "python3"
  },
  "language_info": {
   "codemirror_mode": {
    "name": "ipython",
    "version": 3
   },
   "file_extension": ".py",
   "mimetype": "text/x-python",
   "name": "python",
   "nbconvert_exporter": "python",
   "pygments_lexer": "ipython3",
   "version": "3.9.16"
  }
 },
 "nbformat": 4,
 "nbformat_minor": 5
}
