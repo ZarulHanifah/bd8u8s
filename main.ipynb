{
 "cells": [
  {
   "cell_type": "code",
   "execution_count": 1,
   "id": "33655264-1486-4c44-a3ff-6d6c051d70f5",
   "metadata": {
    "tags": []
   },
   "outputs": [],
   "source": [
    "import pandas as pd\n",
    "import numpy as np\n",
    "import re\n",
    "\n",
    "import plotly.express as px\n",
    "import ipywidgets as widgets\n",
    "\n",
    "pd.set_option(\"display.max_colwidth\", None)\n",
    "pd.set_option(\"display.max_columns\", None)"
   ]
  },
  {
   "cell_type": "code",
   "execution_count": 2,
   "id": "b9d995b3-2fb0-432a-9518-2f27e7e5f455",
   "metadata": {
    "tags": []
   },
   "outputs": [],
   "source": [
    "meta = pd.read_csv(\"./input_folder/merged/meta_final2.tsv\", sep = \"\\t\", index_col = 0)\n",
    "rename_to = {v: k for k, v in meta[\"old_name\"].to_dict().items()}\n",
    "\n",
    "categories = [\"Top\", \"Middle\", \"Bottom\"]\n",
    "\n",
    "# Convert the Series to Categorical with custom categories\n",
    "meta[\"depthlayer\"] = pd.Categorical(meta[\"depthlayer\"], categories=categories, ordered=True)\n",
    "\n",
    "meta.sort_values(\"depthlayer\", inplace = True)"
   ]
  },
  {
   "cell_type": "code",
   "execution_count": 3,
   "id": "7f073937-f6c0-497d-af68-ceae8899fef8",
   "metadata": {
    "tags": []
   },
   "outputs": [],
   "source": [
    "path = \"input_folder/KS/16S_predicted.tsv.gz\"\n",
    "df = pd.read_csv(path, compression=\"gzip\", header=0, sep=\"\\t\", index_col = 0)\n",
    "df.sort_values(\"16S_rRNA_Count\", ascending = False, inplace = True)"
   ]
  },
  {
   "cell_type": "code",
   "execution_count": 4,
   "id": "d98a68cf-a8d0-4bfd-a689-748c7f2ed9d6",
   "metadata": {
    "tags": []
   },
   "outputs": [],
   "source": [
    "taxo = pd.read_csv(\"input_folder/KS/taxonomy.tsv\", sep = \"\\t\", index_col = 0)"
   ]
  },
  {
   "cell_type": "markdown",
   "id": "3e6213a0-fb54-4502-a254-f362ba9d773f",
   "metadata": {},
   "source": [
    "## Taxonomy with NSTI value above 2"
   ]
  },
  {
   "cell_type": "code",
   "execution_count": 5,
   "id": "e64f634a-96e1-4c3e-96fa-49d558904523",
   "metadata": {
    "tags": []
   },
   "outputs": [
    {
     "data": {
      "text/html": [
       "<div>\n",
       "<style scoped>\n",
       "    .dataframe tbody tr th:only-of-type {\n",
       "        vertical-align: middle;\n",
       "    }\n",
       "\n",
       "    .dataframe tbody tr th {\n",
       "        vertical-align: top;\n",
       "    }\n",
       "\n",
       "    .dataframe thead th {\n",
       "        text-align: right;\n",
       "    }\n",
       "</style>\n",
       "<table border=\"1\" class=\"dataframe\">\n",
       "  <thead>\n",
       "    <tr style=\"text-align: right;\">\n",
       "      <th></th>\n",
       "      <th>Number of ASVs</th>\n",
       "    </tr>\n",
       "    <tr>\n",
       "      <th>Taxon</th>\n",
       "      <th></th>\n",
       "    </tr>\n",
       "  </thead>\n",
       "  <tbody>\n",
       "    <tr>\n",
       "      <th>d__Archaea</th>\n",
       "      <td>3</td>\n",
       "    </tr>\n",
       "    <tr>\n",
       "      <th>d__Archaea; p__Aenigmarchaeota; c__Aenigmarchaeia; o__Aenigmarchaeales; f__Aenigmarchaeales; g__Aenigmarchaeales; s__uncultured_archaeon</th>\n",
       "      <td>4</td>\n",
       "    </tr>\n",
       "    <tr>\n",
       "      <th>d__Archaea; p__Aenigmarchaeota; c__Aenigmarchaeia; o__Aenigmarchaeales; f__Aenigmarchaeales; g__Candidatus_Aenigmarchaeum; s__uncultured_archaeon</th>\n",
       "      <td>2</td>\n",
       "    </tr>\n",
       "    <tr>\n",
       "      <th>d__Archaea; p__Crenarchaeota; c__Bathyarchaeia; o__Bathyarchaeia; f__Bathyarchaeia; g__Bathyarchaeia; s__uncultured_archaeon</th>\n",
       "      <td>1</td>\n",
       "    </tr>\n",
       "    <tr>\n",
       "      <th>d__Archaea; p__Nanoarchaeota; c__Nanoarchaeia; o__Woesearchaeales; f__GW2011_GWC1_47_15; g__GW2011_GWC1_47_15; s__uncultured_archaeon</th>\n",
       "      <td>1</td>\n",
       "    </tr>\n",
       "  </tbody>\n",
       "</table>\n",
       "</div>"
      ],
      "text/plain": [
       "                                                                                                                                                   Number of ASVs\n",
       "Taxon                                                                                                                                                            \n",
       "d__Archaea                                                                                                                                                      3\n",
       "d__Archaea; p__Aenigmarchaeota; c__Aenigmarchaeia; o__Aenigmarchaeales; f__Aenigmarchaeales; g__Aenigmarchaeales; s__uncultured_archaeon                        4\n",
       "d__Archaea; p__Aenigmarchaeota; c__Aenigmarchaeia; o__Aenigmarchaeales; f__Aenigmarchaeales; g__Candidatus_Aenigmarchaeum; s__uncultured_archaeon               2\n",
       "d__Archaea; p__Crenarchaeota; c__Bathyarchaeia; o__Bathyarchaeia; f__Bathyarchaeia; g__Bathyarchaeia; s__uncultured_archaeon                                    1\n",
       "d__Archaea; p__Nanoarchaeota; c__Nanoarchaeia; o__Woesearchaeales; f__GW2011_GWC1_47_15; g__GW2011_GWC1_47_15; s__uncultured_archaeon                           1"
      ]
     },
     "execution_count": 5,
     "metadata": {},
     "output_type": "execute_result"
    }
   ],
   "source": [
    "a = pd.DataFrame(\n",
    "    taxo.loc[\n",
    "            df.loc[df[\"metadata_NSTI\"] > 2, :].index.tolist(), :\n",
    "        ].value_counts(\"Taxon\")\n",
    ")\n",
    "\n",
    "a.columns = [\"Number of ASVs\"]\n",
    "a = a.loc[sorted(a.index.tolist()), :]\n",
    "a.head()"
   ]
  },
  {
   "cell_type": "code",
   "execution_count": 6,
   "id": "d0614f2e-cec1-4be5-8ffc-8a0e19249522",
   "metadata": {
    "tags": []
   },
   "outputs": [
    {
     "data": {
      "text/html": [
       "<div>\n",
       "<style scoped>\n",
       "    .dataframe tbody tr th:only-of-type {\n",
       "        vertical-align: middle;\n",
       "    }\n",
       "\n",
       "    .dataframe tbody tr th {\n",
       "        vertical-align: top;\n",
       "    }\n",
       "\n",
       "    .dataframe thead th {\n",
       "        text-align: right;\n",
       "    }\n",
       "</style>\n",
       "<table border=\"1\" class=\"dataframe\">\n",
       "  <thead>\n",
       "    <tr style=\"text-align: right;\">\n",
       "      <th></th>\n",
       "      <th>Number of ASVs</th>\n",
       "    </tr>\n",
       "    <tr>\n",
       "      <th>Tax</th>\n",
       "      <th></th>\n",
       "    </tr>\n",
       "  </thead>\n",
       "  <tbody>\n",
       "    <tr>\n",
       "      <th>d__Archaea</th>\n",
       "      <td>3</td>\n",
       "    </tr>\n",
       "    <tr>\n",
       "      <th>d__Archaea; p__Aenigmarchaeota; c__Aenigmarchaeia</th>\n",
       "      <td>6</td>\n",
       "    </tr>\n",
       "    <tr>\n",
       "      <th>d__Archaea; p__Crenarchaeota; c__Bathyarchaeia</th>\n",
       "      <td>1</td>\n",
       "    </tr>\n",
       "    <tr>\n",
       "      <th>d__Archaea; p__Nanoarchaeota; c__Nanoarchaeia</th>\n",
       "      <td>14</td>\n",
       "    </tr>\n",
       "    <tr>\n",
       "      <th>d__Bacteria</th>\n",
       "      <td>1</td>\n",
       "    </tr>\n",
       "    <tr>\n",
       "      <th>d__Bacteria; p__Patescibacteria</th>\n",
       "      <td>4</td>\n",
       "    </tr>\n",
       "    <tr>\n",
       "      <th>d__Bacteria; p__Patescibacteria; c__ABY1</th>\n",
       "      <td>2</td>\n",
       "    </tr>\n",
       "    <tr>\n",
       "      <th>d__Bacteria; p__Patescibacteria; c__Microgenomatia</th>\n",
       "      <td>3</td>\n",
       "    </tr>\n",
       "    <tr>\n",
       "      <th>d__Bacteria; p__Patescibacteria; c__Parcubacteria</th>\n",
       "      <td>8</td>\n",
       "    </tr>\n",
       "    <tr>\n",
       "      <th>d__Bacteria; p__Planctomycetota</th>\n",
       "      <td>1</td>\n",
       "    </tr>\n",
       "    <tr>\n",
       "      <th>d__Bacteria; p__Sumerlaeota; c__Sumerlaeia</th>\n",
       "      <td>1</td>\n",
       "    </tr>\n",
       "  </tbody>\n",
       "</table>\n",
       "</div>"
      ],
      "text/plain": [
       "                                                    Number of ASVs\n",
       "Tax                                                               \n",
       "d__Archaea                                                       3\n",
       "d__Archaea; p__Aenigmarchaeota; c__Aenigmarchaeia                6\n",
       "d__Archaea; p__Crenarchaeota; c__Bathyarchaeia                   1\n",
       "d__Archaea; p__Nanoarchaeota; c__Nanoarchaeia                   14\n",
       "d__Bacteria                                                      1\n",
       "d__Bacteria; p__Patescibacteria                                  4\n",
       "d__Bacteria; p__Patescibacteria; c__ABY1                         2\n",
       "d__Bacteria; p__Patescibacteria; c__Microgenomatia               3\n",
       "d__Bacteria; p__Patescibacteria; c__Parcubacteria                8\n",
       "d__Bacteria; p__Planctomycetota                                  1\n",
       "d__Bacteria; p__Sumerlaeota; c__Sumerlaeia                       1"
      ]
     },
     "execution_count": 6,
     "metadata": {},
     "output_type": "execute_result"
    }
   ],
   "source": [
    "a[\"Tax\"] = [re.sub(\"; o__.*\", \"\", i) for i in a.index.tolist()]\n",
    "a.groupby(\"Tax\").sum()"
   ]
  },
  {
   "cell_type": "markdown",
   "id": "6d735db3-0f0e-40d9-88ed-f9dc459b66b5",
   "metadata": {},
   "source": [
    "## Data transformation+ordination on predicted functions (Kegg Ontology)\n",
    "### KS samples only"
   ]
  },
  {
   "cell_type": "code",
   "execution_count": 7,
   "id": "5de0f647-3aa0-4ced-a4d9-d5821962f498",
   "metadata": {
    "tags": []
   },
   "outputs": [
    {
     "data": {
      "application/vnd.jupyter.widget-view+json": {
       "model_id": "abe585c75ece4167aec43d77e8d93e7b",
       "version_major": 2,
       "version_minor": 0
      },
      "text/plain": [
       "interactive(children=(Dropdown(description='Select Metadata:', options=('uniqID', 'filename_prefix', 'temperat…"
      ]
     },
     "execution_count": 7,
     "metadata": {},
     "output_type": "execute_result"
    }
   ],
   "source": [
    "bray_pca_df = pd.read_csv(\"input_folder/KS/functional_metagenome/KO/bray_pca.tsv\", sep = \"\\t\")\n",
    "metadata_dropdown_bray_pca = widgets.Dropdown(options=list(meta.columns), description='Select Metadata:')\n",
    "\n",
    "def update_color_bray_pca(selected_metadata):\n",
    "    fig = px.scatter_3d(bray_pca_df, x='PC1', y='PC2', z = \"PC3\",\n",
    "                     color = selected_metadata,\n",
    "                     text='uniqID', title='Bray Curtis + PCA Analysis on predicted KO')\n",
    "    fig.update_traces(textposition='top center')\n",
    "    fig.update_layout(width = 800, height = 800)\n",
    "    fig.show()\n",
    "\n",
    "# Observe the changes and update the plot on metadata selection\n",
    "widgets.interactive(update_color_bray_pca, selected_metadata=metadata_dropdown_bray_pca)"
   ]
  },
  {
   "cell_type": "code",
   "execution_count": 8,
   "id": "d1e2b3c2",
   "metadata": {
    "tags": []
   },
   "outputs": [
    {
     "data": {
      "application/vnd.jupyter.widget-view+json": {
       "model_id": "7f5002a6f642413db8f2f1675c8aa640",
       "version_major": 2,
       "version_minor": 0
      },
      "text/plain": [
       "interactive(children=(Dropdown(description='Select Metadata:', options=('uniqID', 'filename_prefix', 'temperat…"
      ]
     },
     "execution_count": 8,
     "metadata": {},
     "output_type": "execute_result"
    }
   ],
   "source": [
    "metadata_dropdown_bray_pca = widgets.Dropdown(options=list(meta.columns),\n",
    "                                              description='Select Metadata:')\n",
    "\n",
    "def update_color_bray_pca(selected_metadata):\n",
    "    fig = px.scatter(bray_pca_df, x='PC1', y='PC2',\n",
    "                     color = selected_metadata,\n",
    "                     text='uniqID', title='Bray Curtis + PCA Analysis on predicted KO')\n",
    "    fig.update_traces(textposition='top center')\n",
    "    fig.update_layout(width = 800, height = 800)\n",
    "    fig.show()\n",
    "\n",
    "# Observe the changes and update the plot on metadata selection\n",
    "widgets.interactive(update_color_bray_pca, selected_metadata=metadata_dropdown_bray_pca)"
   ]
  },
  {
   "cell_type": "markdown",
   "id": "513eb966-748f-4fb6-a258-f25eac5a8eb4",
   "metadata": {},
   "source": [
    "### Merged samples"
   ]
  },
  {
   "cell_type": "code",
   "execution_count": 9,
   "id": "e5436654-46d5-4b20-a631-8d987212d1e4",
   "metadata": {
    "tags": []
   },
   "outputs": [
    {
     "data": {
      "application/vnd.jupyter.widget-view+json": {
       "model_id": "c957f267aae64322a882c17cad1b2f8b",
       "version_major": 2,
       "version_minor": 0
      },
      "text/plain": [
       "interactive(children=(Dropdown(description='Select Metadata:', options=('uniqID', 'filename_prefix', 'temperat…"
      ]
     },
     "execution_count": 9,
     "metadata": {},
     "output_type": "execute_result"
    }
   ],
   "source": [
    "bray_pca_df = pd.read_csv(\"input_folder/merged/functional_metagenome/KO/bray_pca.tsv\", sep = \"\\t\")\n",
    "metadata_dropdown_bray_pca = widgets.Dropdown(options=list(meta.columns), description='Select Metadata:')\n",
    "\n",
    "def update_color_bray_pca(selected_metadata):\n",
    "    fig = px.scatter_3d(bray_pca_df, x='PC1', y='PC2', z = \"PC3\",\n",
    "                     color = selected_metadata,\n",
    "                     text='uniqID', title='Bray Curtis + PCA Analysis on predicted KO')\n",
    "    fig.update_traces(textposition='top center')\n",
    "    fig.update_layout(width = 1000, height = 800)\n",
    "    fig.show()\n",
    "\n",
    "# Observe the changes and update the plot on metadata selection\n",
    "widgets.interactive(update_color_bray_pca, selected_metadata=metadata_dropdown_bray_pca)"
   ]
  },
  {
   "cell_type": "code",
   "execution_count": 10,
   "id": "144c6e53-93eb-444b-a85e-785b55405fac",
   "metadata": {
    "tags": []
   },
   "outputs": [
    {
     "data": {
      "application/vnd.jupyter.widget-view+json": {
       "model_id": "d97118c4d0594b30b1196267eff0f5f3",
       "version_major": 2,
       "version_minor": 0
      },
      "text/plain": [
       "interactive(children=(Dropdown(description='Select Metadata:', options=('uniqID', 'filename_prefix', 'temperat…"
      ]
     },
     "execution_count": 10,
     "metadata": {},
     "output_type": "execute_result"
    }
   ],
   "source": [
    "metadata_dropdown_bray_pca = widgets.Dropdown(options=list(meta.columns),\n",
    "                                              description='Select Metadata:')\n",
    "\n",
    "def update_color_bray_pca(selected_metadata):\n",
    "    fig = px.scatter(bray_pca_df, x='PC1', y='PC2',\n",
    "                     color=selected_metadata,\n",
    "                     text='uniqID', title='Bray Curtis + PCA Analysis on predicted KO')\n",
    "    fig.update_traces(textposition='top center')\n",
    "\n",
    "    # Set the aspect ratio (width:height) as desired, e.g., 1:1\n",
    "    aspect_ratio = 0.6\n",
    "    fig.update_layout(width=1200, height=1200 * aspect_ratio)\n",
    "\n",
    "    fig.show()\n",
    "\n",
    "# Observe the changes and update the plot on metadata selection\n",
    "widgets.interactive(update_color_bray_pca, selected_metadata=metadata_dropdown_bray_pca)"
   ]
  },
  {
   "cell_type": "code",
   "execution_count": null,
   "id": "363ffb60-9708-4329-ba55-0b0f86f0b608",
   "metadata": {},
   "outputs": [],
   "source": []
  }
 ],
 "metadata": {
  "kernelspec": {
   "display_name": "Python 3 (ipykernel)",
   "language": "python",
   "name": "python3"
  },
  "language_info": {
   "codemirror_mode": {
    "name": "ipython",
    "version": 3
   },
   "file_extension": ".py",
   "mimetype": "text/x-python",
   "name": "python",
   "nbconvert_exporter": "python",
   "pygments_lexer": "ipython3",
   "version": "3.9.16"
  }
 },
 "nbformat": 4,
 "nbformat_minor": 5
}
