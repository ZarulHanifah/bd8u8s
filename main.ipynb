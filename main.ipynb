{
 "cells": [
  {
   "cell_type": "code",
   "execution_count": 1,
   "id": "33655264-1486-4c44-a3ff-6d6c051d70f5",
   "metadata": {
    "tags": []
   },
   "outputs": [],
   "source": [
    "import pandas as pd\n",
    "import numpy as np\n",
    "import re\n",
    "import os\n",
    "\n",
    "import plotly.express as px\n",
    "import ipywidgets as widgets\n",
    "\n",
    "pd.set_option(\"display.max_colwidth\", None)\n",
    "pd.set_option(\"display.max_columns\", None)"
   ]
  },
  {
   "cell_type": "code",
   "execution_count": 2,
   "id": "b9d995b3-2fb0-432a-9518-2f27e7e5f455",
   "metadata": {
    "tags": []
   },
   "outputs": [],
   "source": [
    "meta = pd.read_csv(\"./input_folder/merged/meta_final2.tsv\", sep = \"\\t\", index_col = 0)\n",
    "rename_to = {v: k for k, v in meta[\"old_name\"].to_dict().items()}\n",
    "\n",
    "categories = [\"Top\", \"Middle\", \"Bottom\"]\n",
    "\n",
    "# Convert the Series to Categorical with custom categories\n",
    "meta[\"depthlayer\"] = pd.Categorical(meta[\"depthlayer\"], categories=categories, ordered=True)\n",
    "\n",
    "meta.sort_values(\"depthlayer\", inplace = True)"
   ]
  },
  {
   "cell_type": "code",
   "execution_count": 3,
   "id": "7f073937-f6c0-497d-af68-ceae8899fef8",
   "metadata": {
    "tags": []
   },
   "outputs": [],
   "source": [
    "path = \"input_folder/KS/16S_predicted.tsv.gz\"\n",
    "df = pd.read_csv(path, compression=\"gzip\", header=0, sep=\"\\t\", index_col = 0)\n",
    "df.sort_values(\"16S_rRNA_Count\", ascending = False, inplace = True)"
   ]
  },
  {
   "cell_type": "code",
   "execution_count": 4,
   "id": "d98a68cf-a8d0-4bfd-a689-748c7f2ed9d6",
   "metadata": {
    "tags": []
   },
   "outputs": [],
   "source": [
    "taxo = pd.read_csv(\"input_folder/KS/taxonomy.tsv\", sep = \"\\t\", index_col = 0)"
   ]
  },
  {
   "cell_type": "markdown",
   "id": "3e6213a0-fb54-4502-a254-f362ba9d773f",
   "metadata": {
    "tags": []
   },
   "source": [
    "## Taxonomy with NSTI value above 2"
   ]
  },
  {
   "cell_type": "code",
   "execution_count": 5,
   "id": "e64f634a-96e1-4c3e-96fa-49d558904523",
   "metadata": {
    "tags": []
   },
   "outputs": [
    {
     "data": {
      "text/html": [
       "<div>\n",
       "<style scoped>\n",
       "    .dataframe tbody tr th:only-of-type {\n",
       "        vertical-align: middle;\n",
       "    }\n",
       "\n",
       "    .dataframe tbody tr th {\n",
       "        vertical-align: top;\n",
       "    }\n",
       "\n",
       "    .dataframe thead th {\n",
       "        text-align: right;\n",
       "    }\n",
       "</style>\n",
       "<table border=\"1\" class=\"dataframe\">\n",
       "  <thead>\n",
       "    <tr style=\"text-align: right;\">\n",
       "      <th></th>\n",
       "      <th>Number of ASVs</th>\n",
       "    </tr>\n",
       "    <tr>\n",
       "      <th>Taxon</th>\n",
       "      <th></th>\n",
       "    </tr>\n",
       "  </thead>\n",
       "  <tbody>\n",
       "    <tr>\n",
       "      <th>d__Archaea</th>\n",
       "      <td>3</td>\n",
       "    </tr>\n",
       "    <tr>\n",
       "      <th>d__Archaea; p__Aenigmarchaeota; c__Aenigmarchaeia; o__Aenigmarchaeales; f__Aenigmarchaeales; g__Aenigmarchaeales; s__uncultured_archaeon</th>\n",
       "      <td>4</td>\n",
       "    </tr>\n",
       "    <tr>\n",
       "      <th>d__Archaea; p__Aenigmarchaeota; c__Aenigmarchaeia; o__Aenigmarchaeales; f__Aenigmarchaeales; g__Candidatus_Aenigmarchaeum; s__uncultured_archaeon</th>\n",
       "      <td>2</td>\n",
       "    </tr>\n",
       "    <tr>\n",
       "      <th>d__Archaea; p__Crenarchaeota; c__Bathyarchaeia; o__Bathyarchaeia; f__Bathyarchaeia; g__Bathyarchaeia; s__uncultured_archaeon</th>\n",
       "      <td>1</td>\n",
       "    </tr>\n",
       "    <tr>\n",
       "      <th>d__Archaea; p__Nanoarchaeota; c__Nanoarchaeia; o__Woesearchaeales; f__GW2011_GWC1_47_15; g__GW2011_GWC1_47_15; s__uncultured_archaeon</th>\n",
       "      <td>1</td>\n",
       "    </tr>\n",
       "  </tbody>\n",
       "</table>\n",
       "</div>"
      ],
      "text/plain": [
       "                                                                                                                                                   Number of ASVs\n",
       "Taxon                                                                                                                                                            \n",
       "d__Archaea                                                                                                                                                      3\n",
       "d__Archaea; p__Aenigmarchaeota; c__Aenigmarchaeia; o__Aenigmarchaeales; f__Aenigmarchaeales; g__Aenigmarchaeales; s__uncultured_archaeon                        4\n",
       "d__Archaea; p__Aenigmarchaeota; c__Aenigmarchaeia; o__Aenigmarchaeales; f__Aenigmarchaeales; g__Candidatus_Aenigmarchaeum; s__uncultured_archaeon               2\n",
       "d__Archaea; p__Crenarchaeota; c__Bathyarchaeia; o__Bathyarchaeia; f__Bathyarchaeia; g__Bathyarchaeia; s__uncultured_archaeon                                    1\n",
       "d__Archaea; p__Nanoarchaeota; c__Nanoarchaeia; o__Woesearchaeales; f__GW2011_GWC1_47_15; g__GW2011_GWC1_47_15; s__uncultured_archaeon                           1"
      ]
     },
     "execution_count": 5,
     "metadata": {},
     "output_type": "execute_result"
    }
   ],
   "source": [
    "a = pd.DataFrame(\n",
    "    taxo.loc[\n",
    "            df.loc[df[\"metadata_NSTI\"] > 2, :].index.tolist(), :\n",
    "        ].value_counts(\"Taxon\")\n",
    ")\n",
    "\n",
    "a.columns = [\"Number of ASVs\"]\n",
    "a = a.loc[sorted(a.index.tolist()), :]\n",
    "a.head()"
   ]
  },
  {
   "cell_type": "code",
   "execution_count": 6,
   "id": "d0614f2e-cec1-4be5-8ffc-8a0e19249522",
   "metadata": {
    "scrolled": true,
    "tags": []
   },
   "outputs": [
    {
     "data": {
      "text/html": [
       "<div>\n",
       "<style scoped>\n",
       "    .dataframe tbody tr th:only-of-type {\n",
       "        vertical-align: middle;\n",
       "    }\n",
       "\n",
       "    .dataframe tbody tr th {\n",
       "        vertical-align: top;\n",
       "    }\n",
       "\n",
       "    .dataframe thead th {\n",
       "        text-align: right;\n",
       "    }\n",
       "</style>\n",
       "<table border=\"1\" class=\"dataframe\">\n",
       "  <thead>\n",
       "    <tr style=\"text-align: right;\">\n",
       "      <th></th>\n",
       "      <th>Number of ASVs</th>\n",
       "    </tr>\n",
       "    <tr>\n",
       "      <th>Tax</th>\n",
       "      <th></th>\n",
       "    </tr>\n",
       "  </thead>\n",
       "  <tbody>\n",
       "    <tr>\n",
       "      <th>d__Archaea</th>\n",
       "      <td>3</td>\n",
       "    </tr>\n",
       "    <tr>\n",
       "      <th>d__Archaea; p__Aenigmarchaeota; c__Aenigmarchaeia</th>\n",
       "      <td>6</td>\n",
       "    </tr>\n",
       "    <tr>\n",
       "      <th>d__Archaea; p__Crenarchaeota; c__Bathyarchaeia</th>\n",
       "      <td>1</td>\n",
       "    </tr>\n",
       "    <tr>\n",
       "      <th>d__Archaea; p__Nanoarchaeota; c__Nanoarchaeia</th>\n",
       "      <td>14</td>\n",
       "    </tr>\n",
       "    <tr>\n",
       "      <th>d__Bacteria</th>\n",
       "      <td>1</td>\n",
       "    </tr>\n",
       "    <tr>\n",
       "      <th>d__Bacteria; p__Patescibacteria</th>\n",
       "      <td>4</td>\n",
       "    </tr>\n",
       "    <tr>\n",
       "      <th>d__Bacteria; p__Patescibacteria; c__ABY1</th>\n",
       "      <td>2</td>\n",
       "    </tr>\n",
       "    <tr>\n",
       "      <th>d__Bacteria; p__Patescibacteria; c__Microgenomatia</th>\n",
       "      <td>3</td>\n",
       "    </tr>\n",
       "    <tr>\n",
       "      <th>d__Bacteria; p__Patescibacteria; c__Parcubacteria</th>\n",
       "      <td>8</td>\n",
       "    </tr>\n",
       "    <tr>\n",
       "      <th>d__Bacteria; p__Planctomycetota</th>\n",
       "      <td>1</td>\n",
       "    </tr>\n",
       "    <tr>\n",
       "      <th>d__Bacteria; p__Sumerlaeota; c__Sumerlaeia</th>\n",
       "      <td>1</td>\n",
       "    </tr>\n",
       "  </tbody>\n",
       "</table>\n",
       "</div>"
      ],
      "text/plain": [
       "                                                    Number of ASVs\n",
       "Tax                                                               \n",
       "d__Archaea                                                       3\n",
       "d__Archaea; p__Aenigmarchaeota; c__Aenigmarchaeia                6\n",
       "d__Archaea; p__Crenarchaeota; c__Bathyarchaeia                   1\n",
       "d__Archaea; p__Nanoarchaeota; c__Nanoarchaeia                   14\n",
       "d__Bacteria                                                      1\n",
       "d__Bacteria; p__Patescibacteria                                  4\n",
       "d__Bacteria; p__Patescibacteria; c__ABY1                         2\n",
       "d__Bacteria; p__Patescibacteria; c__Microgenomatia               3\n",
       "d__Bacteria; p__Patescibacteria; c__Parcubacteria                8\n",
       "d__Bacteria; p__Planctomycetota                                  1\n",
       "d__Bacteria; p__Sumerlaeota; c__Sumerlaeia                       1"
      ]
     },
     "execution_count": 6,
     "metadata": {},
     "output_type": "execute_result"
    }
   ],
   "source": [
    "a[\"Tax\"] = [re.sub(\"; o__.*\", \"\", i) for i in a.index.tolist()]\n",
    "a.groupby(\"Tax\").sum()"
   ]
  },
  {
   "cell_type": "markdown",
   "id": "6d735db3-0f0e-40d9-88ed-f9dc459b66b5",
   "metadata": {},
   "source": [
    "## Data transformation+ordination on predicted functions (Kegg Ontology)\n",
    "### KS samples only"
   ]
  },
  {
   "cell_type": "code",
   "execution_count": 18,
   "id": "44983c01-467f-45e3-a371-46bda20da3b2",
   "metadata": {},
   "outputs": [],
   "source": [
    "from IPython.display import display, clear_output"
   ]
  },
  {
   "cell_type": "code",
   "execution_count": 19,
   "id": "5de0f647-3aa0-4ced-a4d9-d5821962f498",
   "metadata": {
    "tags": []
   },
   "outputs": [
    {
     "data": {
      "application/vnd.jupyter.widget-view+json": {
       "model_id": "9c4dddaea86a487a9b2e136895f752ed",
       "version_major": 2,
       "version_minor": 0
      },
      "text/plain": [
       "Dropdown(description='Select Metadata:', options=('uniqID', 'filename_prefix', 'temperature', 'ph', 'orp', 'sa…"
      ]
     },
     "metadata": {},
     "output_type": "display_data"
    },
    {
     "data": {
      "application/vnd.jupyter.widget-view+json": {
       "model_id": "72188fa551f24ee989c19d30f7af7538",
       "version_major": 2,
       "version_minor": 0
      },
      "text/plain": [
       "Output()"
      ]
     },
     "metadata": {},
     "output_type": "display_data"
    }
   ],
   "source": [
    "# Load your data\n",
    "bray_pca_df = pd.read_csv(\"input_folder/KS/functional_metagenome/KO/bray_pca.tsv\", sep=\"\\t\")\n",
    "# meta = pd.read_csv(\"path_to_metadata.tsv\", sep=\"\\t\")  # Example\n",
    "\n",
    "# Dropdown for selecting metadata\n",
    "metadata_dropdown_bray_pca = widgets.Dropdown(\n",
    "    options=list(meta.columns), \n",
    "    description='Select Metadata:'\n",
    ")\n",
    "\n",
    "# Output widget to hold the plot\n",
    "plot_output = widgets.Output()\n",
    "\n",
    "# Function to update plot\n",
    "def update_plot(change):\n",
    "    with plot_output:\n",
    "        clear_output(wait=True)\n",
    "        selected_metadata = metadata_dropdown_bray_pca.value\n",
    "        fig = px.scatter_3d(\n",
    "            bray_pca_df, x='PC1', y='PC2', z='PC3',\n",
    "            color=selected_metadata,\n",
    "            text='uniqID',\n",
    "            title='Bray Curtis + PCA Analysis on predicted KO'\n",
    "        )\n",
    "        fig.update_traces(textposition='top center')\n",
    "        fig.update_layout(width=800, height=800)\n",
    "        fig.show()\n",
    "\n",
    "# Trigger update on dropdown change\n",
    "metadata_dropdown_bray_pca.observe(update_plot, names='value')\n",
    "\n",
    "# Initial plot\n",
    "update_plot(None)\n",
    "\n",
    "# Display in Voila\n",
    "display(metadata_dropdown_bray_pca, plot_output)"
   ]
  },
  {
   "cell_type": "code",
   "execution_count": 20,
   "id": "d1e2b3c2",
   "metadata": {
    "tags": []
   },
   "outputs": [
    {
     "data": {
      "application/vnd.jupyter.widget-view+json": {
       "model_id": "fbee4abb74dd44d9b204a0abfac95966",
       "version_major": 2,
       "version_minor": 0
      },
      "text/plain": [
       "Dropdown(description='Select Metadata:', options=('uniqID', 'filename_prefix', 'temperature', 'ph', 'orp', 'sa…"
      ]
     },
     "metadata": {},
     "output_type": "display_data"
    },
    {
     "data": {
      "application/vnd.jupyter.widget-view+json": {
       "model_id": "426427fa68a343189e227bb4f9f65ad2",
       "version_major": 2,
       "version_minor": 0
      },
      "text/plain": [
       "Output()"
      ]
     },
     "metadata": {},
     "output_type": "display_data"
    }
   ],
   "source": [
    "# Load data\n",
    "bray_pca_df = pd.read_csv(\"input_folder/KS/functional_metagenome/KO/bray_pca.tsv\", sep=\"\\t\")\n",
    "# meta = pd.read_csv(\"path_to_metadata.tsv\", sep=\"\\t\")  # Example if not yet defined\n",
    "\n",
    "# Dropdown for selecting metadata\n",
    "metadata_dropdown_bray_pca = widgets.Dropdown(\n",
    "    options=list(meta.columns),\n",
    "    description='Select Metadata:'\n",
    ")\n",
    "\n",
    "# Output widget to display the plot\n",
    "plot_output_2d = widgets.Output()\n",
    "\n",
    "# Update function for 2D PCA\n",
    "def update_color_bray_pca(change):\n",
    "    with plot_output_2d:\n",
    "        clear_output(wait=True)\n",
    "        selected_metadata = metadata_dropdown_bray_pca.value\n",
    "        fig = px.scatter(\n",
    "            bray_pca_df, x='PC1', y='PC2',\n",
    "            color=selected_metadata,\n",
    "            text='uniqID',\n",
    "            title='Bray Curtis + PCA Analysis on predicted KO (2D)'\n",
    "        )\n",
    "        fig.update_traces(textposition='top center')\n",
    "        fig.update_layout(width=800, height=800)\n",
    "        fig.show()\n",
    "\n",
    "# Trigger plot update on dropdown change\n",
    "metadata_dropdown_bray_pca.observe(update_color_bray_pca, names='value')\n",
    "\n",
    "# Initial plot render\n",
    "update_color_bray_pca(None)\n",
    "\n",
    "# Display the widgets and plot\n",
    "display(metadata_dropdown_bray_pca, plot_output_2d)"
   ]
  },
  {
   "cell_type": "markdown",
   "id": "513eb966-748f-4fb6-a258-f25eac5a8eb4",
   "metadata": {},
   "source": [
    "### Merged samples"
   ]
  },
  {
   "cell_type": "code",
   "execution_count": 21,
   "id": "e5436654-46d5-4b20-a631-8d987212d1e4",
   "metadata": {
    "tags": []
   },
   "outputs": [
    {
     "data": {
      "application/vnd.jupyter.widget-view+json": {
       "model_id": "df022fa84eb14ac6a4468e3d81f3bb6e",
       "version_major": 2,
       "version_minor": 0
      },
      "text/plain": [
       "Dropdown(description='Select Metadata:', options=('uniqID', 'filename_prefix', 'temperature', 'ph', 'orp', 'sa…"
      ]
     },
     "metadata": {},
     "output_type": "display_data"
    },
    {
     "data": {
      "application/vnd.jupyter.widget-view+json": {
       "model_id": "1b32c8bbbce5400ab9d10b5e7b2545e9",
       "version_major": 2,
       "version_minor": 0
      },
      "text/plain": [
       "Output()"
      ]
     },
     "metadata": {},
     "output_type": "display_data"
    }
   ],
   "source": [
    "# Load data from the updated path\n",
    "bray_pca_df = pd.read_csv(\"input_folder/merged/functional_metagenome/KO/bray_pca.tsv\", sep=\"\\t\")\n",
    "# meta = pd.read_csv(\"path_to_metadata.tsv\", sep=\"\\t\")  # Load this if not already done\n",
    "\n",
    "# Dropdown for selecting metadata\n",
    "metadata_dropdown_bray_pca = widgets.Dropdown(\n",
    "    options=list(meta.columns),\n",
    "    description='Select Metadata:'\n",
    ")\n",
    "\n",
    "# Output widget to display the plot\n",
    "plot_output_3d = widgets.Output()\n",
    "\n",
    "# Update function for 3D PCA\n",
    "def update_color_bray_pca(change):\n",
    "    with plot_output_3d:\n",
    "        clear_output(wait=True)\n",
    "        selected_metadata = metadata_dropdown_bray_pca.value\n",
    "        fig = px.scatter_3d(\n",
    "            bray_pca_df, x='PC1', y='PC2', z='PC3',\n",
    "            color=selected_metadata,\n",
    "            text='uniqID',\n",
    "            title='Bray Curtis + PCA Analysis on predicted KO (3D)'\n",
    "        )\n",
    "        fig.update_traces(textposition='top center')\n",
    "        fig.update_layout(width=1000, height=800)\n",
    "        fig.show()\n",
    "\n",
    "# Trigger plot update on dropdown change\n",
    "metadata_dropdown_bray_pca.observe(update_color_bray_pca, names='value')\n",
    "\n",
    "# Initial plot render\n",
    "update_color_bray_pca(None)\n",
    "\n",
    "# Display the dropdown and plot output\n",
    "display(metadata_dropdown_bray_pca, plot_output_3d)"
   ]
  },
  {
   "cell_type": "code",
   "execution_count": 22,
   "id": "144c6e53-93eb-444b-a85e-785b55405fac",
   "metadata": {
    "tags": []
   },
   "outputs": [
    {
     "data": {
      "application/vnd.jupyter.widget-view+json": {
       "model_id": "8a539529bd3640c080104dce8fecff62",
       "version_major": 2,
       "version_minor": 0
      },
      "text/plain": [
       "Dropdown(description='Select Metadata:', options=('uniqID', 'filename_prefix', 'temperature', 'ph', 'orp', 'sa…"
      ]
     },
     "metadata": {},
     "output_type": "display_data"
    },
    {
     "data": {
      "application/vnd.jupyter.widget-view+json": {
       "model_id": "eb601c817d9e4bfaa2063f8960cb933b",
       "version_major": 2,
       "version_minor": 0
      },
      "text/plain": [
       "Output()"
      ]
     },
     "metadata": {},
     "output_type": "display_data"
    }
   ],
   "source": [
    "# Dropdown for selecting metadata\n",
    "metadata_dropdown_bray_pca = widgets.Dropdown(\n",
    "    options=list(meta.columns),\n",
    "    description='Select Metadata:'\n",
    ")\n",
    "\n",
    "# Output widget for displaying the plot\n",
    "plot_output_2d = widgets.Output()\n",
    "\n",
    "# Function to update the 2D plot\n",
    "def update_color_bray_pca(change):\n",
    "    with plot_output_2d:\n",
    "        clear_output(wait=True)\n",
    "        selected_metadata = metadata_dropdown_bray_pca.value\n",
    "        fig = px.scatter(\n",
    "            bray_pca_df, x='PC1', y='PC2',\n",
    "            color=selected_metadata,\n",
    "            text='uniqID',\n",
    "            title='Bray Curtis + PCA Analysis on predicted KO (2D)'\n",
    "        )\n",
    "        fig.update_traces(textposition='top center')\n",
    "\n",
    "        # Set fixed aspect ratio\n",
    "        aspect_ratio = 0.6\n",
    "        fig.update_layout(width=1200, height=int(1200 * aspect_ratio))\n",
    "\n",
    "        fig.show()\n",
    "\n",
    "# Trigger plot update when dropdown value changes\n",
    "metadata_dropdown_bray_pca.observe(update_color_bray_pca, names='value')\n",
    "\n",
    "# Initial plot render\n",
    "update_color_bray_pca(None)\n",
    "\n",
    "# Display the dropdown and plot\n",
    "display(metadata_dropdown_bray_pca, plot_output_2d)"
   ]
  },
  {
   "cell_type": "markdown",
   "id": "34ae927e-3958-4386-94de-5781e6809321",
   "metadata": {},
   "source": [
    "## Metabolism heatmap from predicted functions (KO)"
   ]
  },
  {
   "cell_type": "code",
   "execution_count": 23,
   "id": "eb736e6b-81f2-497f-916c-5cb82b26eb3f",
   "metadata": {
    "tags": []
   },
   "outputs": [
    {
     "data": {
      "application/vnd.jupyter.widget-view+json": {
       "model_id": "4cbbc22f50f94076974ab4f67acd6521",
       "version_major": 2,
       "version_minor": 0
      },
      "text/plain": [
       "Dropdown(description='KO Subclass:', options=('Methane_metabolism', 'Carbon_fixation'), value='Methane_metabol…"
      ]
     },
     "metadata": {},
     "output_type": "display_data"
    },
    {
     "data": {
      "application/vnd.jupyter.widget-view+json": {
       "model_id": "223b9f1857c84417ba73064e70cf9b17",
       "version_major": 2,
       "version_minor": 0
      },
      "text/plain": [
       "Dropdown(description='Module:', options=('M00345_Formaldehyde_assimilation_ribulose_monophosphate_pathway', 'M…"
      ]
     },
     "metadata": {},
     "output_type": "display_data"
    },
    {
     "data": {
      "application/vnd.jupyter.widget-view+json": {
       "model_id": "093a7a6b9c6b443aa6da49d2d777b9aa",
       "version_major": 2,
       "version_minor": 0
      },
      "text/plain": [
       "Output()"
      ]
     },
     "metadata": {},
     "output_type": "display_data"
    }
   ],
   "source": [
    "# Output widget for heatmap plot\n",
    "plot_output = widgets.Output()\n",
    "\n",
    "# Dropdown for KO subclass\n",
    "ko_subclass_options = os.listdir(\"input_folder/ko_functions/\")\n",
    "ko_subclass_dd = widgets.Dropdown(\n",
    "    options=ko_subclass_options,\n",
    "    description=\"KO Subclass:\"\n",
    ")\n",
    "\n",
    "# Initial module options based on first subclass\n",
    "initial_modules = [re.sub(r\"\\.tsv$\", \"\", f) for f in os.listdir(f\"input_folder/ko_functions/{ko_subclass_options[0]}\")]\n",
    "modules_dd = widgets.Dropdown(\n",
    "    options=initial_modules,\n",
    "    description=\"Module:\"\n",
    ")\n",
    "\n",
    "# Function to update heatmap\n",
    "def update_metabolism_selection(*args):\n",
    "    selected_subclass = ko_subclass_dd.value\n",
    "    selected_module = modules_dd.value\n",
    "    input_table = f\"input_folder/ko_functions/{selected_subclass}/{selected_module}.tsv\"\n",
    "\n",
    "    with plot_output:\n",
    "        clear_output(wait=True)\n",
    "        try:\n",
    "            sub_df = pd.read_csv(input_table, sep=\"\\t\", index_col=0)\n",
    "            title = f\"{selected_subclass} - {selected_module}\"\n",
    "            fig = px.imshow(sub_df, title=title)\n",
    "            fig.update_layout(height=800)\n",
    "            fig.show()\n",
    "        except Exception as e:\n",
    "            print(f\"Error loading or plotting {input_table}: {e}\")\n",
    "\n",
    "# Function to update module options when KO subclass changes\n",
    "def update_modules_options(change):\n",
    "    selected_subclass = change['new']\n",
    "    module_files = os.listdir(f\"input_folder/ko_functions/{selected_subclass}\")\n",
    "    module_names = [re.sub(r\"\\.tsv$\", \"\", f) for f in module_files]\n",
    "    modules_dd.options = module_names\n",
    "    modules_dd.value = module_names[0] if module_names else None\n",
    "    update_metabolism_selection()\n",
    "\n",
    "# Link callbacks\n",
    "ko_subclass_dd.observe(update_modules_options, names='value')\n",
    "modules_dd.observe(lambda change: update_metabolism_selection(), names='value')\n",
    "\n",
    "# Initial plot\n",
    "update_metabolism_selection()\n",
    "\n",
    "# Display UI\n",
    "display(ko_subclass_dd, modules_dd, plot_output)"
   ]
  },
  {
   "cell_type": "code",
   "execution_count": 12,
   "id": "3715e40c-3871-407a-ba29-dce22265f1f7",
   "metadata": {
    "tags": []
   },
   "outputs": [],
   "source": [
    "module_stats = pd.read_csv(\"input_folder/ko_modules_stats.tsv\", sep=\"\\t\", index_col=0)\n",
    "module_pred = pd.read_csv(\"input_folder/ko_modules_predictions.tsv\", sep=\"\\t\", index_col=0)"
   ]
  },
  {
   "cell_type": "markdown",
   "id": "2e925514-d523-4d02-9992-c672046f3e22",
   "metadata": {},
   "source": [
    "# A metabolic pathway is associated with a number of KOs. Given all the predicted KOs, a score of each module is derived by summing from corresponding KOs."
   ]
  },
  {
   "cell_type": "markdown",
   "id": "51f6a94a-aea8-4464-8538-fcd29c3e8894",
   "metadata": {},
   "source": [
    "## Are there any significant carbon fixation modules?"
   ]
  },
  {
   "cell_type": "code",
   "execution_count": 13,
   "id": "ecff5b0b-f944-4f84-925e-cbcbaf833fb7",
   "metadata": {
    "jupyter": {
     "source_hidden": true
    },
    "tags": []
   },
   "outputs": [
    {
     "data": {
      "text/html": [
       "<div>\n",
       "<style scoped>\n",
       "    .dataframe tbody tr th:only-of-type {\n",
       "        vertical-align: middle;\n",
       "    }\n",
       "\n",
       "    .dataframe tbody tr th {\n",
       "        vertical-align: top;\n",
       "    }\n",
       "\n",
       "    .dataframe thead th {\n",
       "        text-align: right;\n",
       "    }\n",
       "</style>\n",
       "<table border=\"1\" class=\"dataframe\">\n",
       "  <thead>\n",
       "    <tr style=\"text-align: right;\">\n",
       "      <th></th>\n",
       "      <th>P-value</th>\n",
       "      <th>Corrected P-value</th>\n",
       "      <th>Effect Size</th>\n",
       "      <th>Description</th>\n",
       "    </tr>\n",
       "  </thead>\n",
       "  <tbody>\n",
       "    <tr>\n",
       "      <th>M00165</th>\n",
       "      <td>0.000129</td>\n",
       "      <td>0.000538</td>\n",
       "      <td>0.668205</td>\n",
       "      <td>Reductive_pentose_phosphate_cycle_Calvin_cycle</td>\n",
       "    </tr>\n",
       "    <tr>\n",
       "      <th>M00168</th>\n",
       "      <td>0.000017</td>\n",
       "      <td>0.000118</td>\n",
       "      <td>0.871353</td>\n",
       "      <td>CAM_Crassulacean_acid_metabolism_dark</td>\n",
       "    </tr>\n",
       "    <tr>\n",
       "      <th>M00169</th>\n",
       "      <td>0.000023</td>\n",
       "      <td>0.000145</td>\n",
       "      <td>0.839846</td>\n",
       "      <td>CAM_Crassulacean_acid_metabolism_light</td>\n",
       "    </tr>\n",
       "    <tr>\n",
       "      <th>M00172</th>\n",
       "      <td>0.000004</td>\n",
       "      <td>0.000053</td>\n",
       "      <td>1.025887</td>\n",
       "      <td>C4-dicarboxylic_acid_cycle_NADP_-_malic_enzyme_type</td>\n",
       "    </tr>\n",
       "    <tr>\n",
       "      <th>M00171</th>\n",
       "      <td>0.000045</td>\n",
       "      <td>0.000217</td>\n",
       "      <td>0.772380</td>\n",
       "      <td>C4-dicarboxylic_acid_cycle_NAD_-_malic_enzyme_type</td>\n",
       "    </tr>\n",
       "    <tr>\n",
       "      <th>M00170</th>\n",
       "      <td>0.002677</td>\n",
       "      <td>0.006462</td>\n",
       "      <td>0.402778</td>\n",
       "      <td>C4-dicarboxylic_acid_cycle_phosphoenolpyruvate_carboxykinase_type</td>\n",
       "    </tr>\n",
       "    <tr>\n",
       "      <th>M00173</th>\n",
       "      <td>0.405146</td>\n",
       "      <td>0.476380</td>\n",
       "      <td>0.052985</td>\n",
       "      <td>Reductive_citrate_cycle_Arnon-Buchanan_cycle</td>\n",
       "    </tr>\n",
       "    <tr>\n",
       "      <th>M00376</th>\n",
       "      <td>0.000371</td>\n",
       "      <td>0.001240</td>\n",
       "      <td>0.570540</td>\n",
       "      <td>3-Hydroxypropionate_bi-cycle</td>\n",
       "    </tr>\n",
       "    <tr>\n",
       "      <th>M00375</th>\n",
       "      <td>0.019088</td>\n",
       "      <td>0.033482</td>\n",
       "      <td>0.253841</td>\n",
       "      <td>Hydroxypropionate-hydroxybutylate_cycle</td>\n",
       "    </tr>\n",
       "    <tr>\n",
       "      <th>M00374</th>\n",
       "      <td>0.117821</td>\n",
       "      <td>0.167348</td>\n",
       "      <td>0.129986</td>\n",
       "      <td>Dicarboxylate-hydroxybutyrate_cycle</td>\n",
       "    </tr>\n",
       "    <tr>\n",
       "      <th>M00377</th>\n",
       "      <td>0.004619</td>\n",
       "      <td>0.009818</td>\n",
       "      <td>0.359743</td>\n",
       "      <td>Reductive_acetyl-CoA_pathway_Wood-Ljungdahl_pathway</td>\n",
       "    </tr>\n",
       "    <tr>\n",
       "      <th>M00579</th>\n",
       "      <td>0.000015</td>\n",
       "      <td>0.000107</td>\n",
       "      <td>0.888677</td>\n",
       "      <td>Phosphate_acetyltransferase-acetate_kinase_pathway_acetyl-CoA_to_acetate</td>\n",
       "    </tr>\n",
       "    <tr>\n",
       "      <th>M00620</th>\n",
       "      <td>0.000604</td>\n",
       "      <td>0.001901</td>\n",
       "      <td>0.527348</td>\n",
       "      <td>Incomplete_reductive_citrate_cycle_acetyl-CoA_to_oxoglutarate</td>\n",
       "    </tr>\n",
       "  </tbody>\n",
       "</table>\n",
       "</div>"
      ],
      "text/plain": [
       "         P-value  Corrected P-value  Effect Size  \\\n",
       "M00165  0.000129           0.000538     0.668205   \n",
       "M00168  0.000017           0.000118     0.871353   \n",
       "M00169  0.000023           0.000145     0.839846   \n",
       "M00172  0.000004           0.000053     1.025887   \n",
       "M00171  0.000045           0.000217     0.772380   \n",
       "M00170  0.002677           0.006462     0.402778   \n",
       "M00173  0.405146           0.476380     0.052985   \n",
       "M00376  0.000371           0.001240     0.570540   \n",
       "M00375  0.019088           0.033482     0.253841   \n",
       "M00374  0.117821           0.167348     0.129986   \n",
       "M00377  0.004619           0.009818     0.359743   \n",
       "M00579  0.000015           0.000107     0.888677   \n",
       "M00620  0.000604           0.001901     0.527348   \n",
       "\n",
       "                                                                     Description  \n",
       "M00165                            Reductive_pentose_phosphate_cycle_Calvin_cycle  \n",
       "M00168                                     CAM_Crassulacean_acid_metabolism_dark  \n",
       "M00169                                    CAM_Crassulacean_acid_metabolism_light  \n",
       "M00172                       C4-dicarboxylic_acid_cycle_NADP_-_malic_enzyme_type  \n",
       "M00171                        C4-dicarboxylic_acid_cycle_NAD_-_malic_enzyme_type  \n",
       "M00170         C4-dicarboxylic_acid_cycle_phosphoenolpyruvate_carboxykinase_type  \n",
       "M00173                              Reductive_citrate_cycle_Arnon-Buchanan_cycle  \n",
       "M00376                                              3-Hydroxypropionate_bi-cycle  \n",
       "M00375                                   Hydroxypropionate-hydroxybutylate_cycle  \n",
       "M00374                                       Dicarboxylate-hydroxybutyrate_cycle  \n",
       "M00377                       Reductive_acetyl-CoA_pathway_Wood-Ljungdahl_pathway  \n",
       "M00579  Phosphate_acetyltransferase-acetate_kinase_pathway_acetyl-CoA_to_acetate  \n",
       "M00620             Incomplete_reductive_citrate_cycle_acetyl-CoA_to_oxoglutarate  "
      ]
     },
     "execution_count": 13,
     "metadata": {},
     "output_type": "execute_result"
    }
   ],
   "source": [
    "module_stats.loc[\n",
    "    [\"M00165\", \"M00168\", \"M00169\", \"M00172\", \"M00171\", \"M00170\", \"M00173\", \"M00376\", \"M00375\", \"M00374\", \"M00377\", \"M00579\", \"M00620\"],\n",
    "    :\n",
    "]"
   ]
  },
  {
   "cell_type": "markdown",
   "id": "8ffeb1cd-07ed-4c3c-a404-0fe611dd454b",
   "metadata": {},
   "source": [
    "## Are there any significant energy metabolism modules?"
   ]
  },
  {
   "cell_type": "code",
   "execution_count": 14,
   "id": "fa7d44bb-ab96-47a8-8942-761d5e80b93b",
   "metadata": {
    "jupyter": {
     "source_hidden": true
    },
    "tags": []
   },
   "outputs": [
    {
     "data": {
      "text/html": [
       "<div>\n",
       "<style scoped>\n",
       "    .dataframe tbody tr th:only-of-type {\n",
       "        vertical-align: middle;\n",
       "    }\n",
       "\n",
       "    .dataframe tbody tr th {\n",
       "        vertical-align: top;\n",
       "    }\n",
       "\n",
       "    .dataframe thead th {\n",
       "        text-align: right;\n",
       "    }\n",
       "</style>\n",
       "<table border=\"1\" class=\"dataframe\">\n",
       "  <thead>\n",
       "    <tr style=\"text-align: right;\">\n",
       "      <th></th>\n",
       "      <th>P-value</th>\n",
       "      <th>Corrected P-value</th>\n",
       "      <th>Effect Size</th>\n",
       "      <th>Description</th>\n",
       "    </tr>\n",
       "  </thead>\n",
       "  <tbody>\n",
       "    <tr>\n",
       "      <th>M00567</th>\n",
       "      <td>0.019712</td>\n",
       "      <td>0.034389</td>\n",
       "      <td>0.251537</td>\n",
       "      <td>Methanogenesis_CO2_to_methane</td>\n",
       "    </tr>\n",
       "    <tr>\n",
       "      <th>M00357</th>\n",
       "      <td>0.009344</td>\n",
       "      <td>0.017562</td>\n",
       "      <td>0.306081</td>\n",
       "      <td>Methanogenesis_acetate_to_methane</td>\n",
       "    </tr>\n",
       "    <tr>\n",
       "      <th>M00356</th>\n",
       "      <td>0.007698</td>\n",
       "      <td>0.014976</td>\n",
       "      <td>0.320622</td>\n",
       "      <td>Methanogenesis_methanol_to_methane</td>\n",
       "    </tr>\n",
       "    <tr>\n",
       "      <th>M00563</th>\n",
       "      <td>0.009229</td>\n",
       "      <td>0.017562</td>\n",
       "      <td>0.307003</td>\n",
       "      <td>Methanogenesis_methylaminedimethylaminetrimethylamine_to_methane</td>\n",
       "    </tr>\n",
       "    <tr>\n",
       "      <th>M00358</th>\n",
       "      <td>0.001377</td>\n",
       "      <td>0.003843</td>\n",
       "      <td>0.457124</td>\n",
       "      <td>Coenzyme_M_biosynthesis</td>\n",
       "    </tr>\n",
       "    <tr>\n",
       "      <th>M00608</th>\n",
       "      <td>0.442983</td>\n",
       "      <td>0.510488</td>\n",
       "      <td>0.047626</td>\n",
       "      <td>2-Oxocarboxylic_acid_chain_extension_2-oxoglutarate_to_2-oxoadipate_to_2-oxopimelate_to_2-oxosuberate</td>\n",
       "    </tr>\n",
       "    <tr>\n",
       "      <th>M00174</th>\n",
       "      <td>0.371815</td>\n",
       "      <td>0.445345</td>\n",
       "      <td>0.058163</td>\n",
       "      <td>Methane_oxidation_methanotroph_methane_to_formaldehyde</td>\n",
       "    </tr>\n",
       "    <tr>\n",
       "      <th>M00346</th>\n",
       "      <td>0.000037</td>\n",
       "      <td>0.000191</td>\n",
       "      <td>0.791534</td>\n",
       "      <td>Formaldehyde_assimilation_serine_pathway</td>\n",
       "    </tr>\n",
       "    <tr>\n",
       "      <th>M00345</th>\n",
       "      <td>0.009412</td>\n",
       "      <td>0.017565</td>\n",
       "      <td>0.305539</td>\n",
       "      <td>Formaldehyde_assimilation_ribulose_monophosphate_pathway</td>\n",
       "    </tr>\n",
       "    <tr>\n",
       "      <th>M00344</th>\n",
       "      <td>0.000002</td>\n",
       "      <td>0.000036</td>\n",
       "      <td>1.117034</td>\n",
       "      <td>Formaldehyde_assimilation_xylulose_monophosphate_pathway</td>\n",
       "    </tr>\n",
       "    <tr>\n",
       "      <th>M00378</th>\n",
       "      <td>0.417375</td>\n",
       "      <td>0.488969</td>\n",
       "      <td>0.051197</td>\n",
       "      <td>F420_biosynthesis_archaea</td>\n",
       "    </tr>\n",
       "    <tr>\n",
       "      <th>M00935</th>\n",
       "      <td>0.006962</td>\n",
       "      <td>0.013961</td>\n",
       "      <td>0.328225</td>\n",
       "      <td>Methanofuran_biosynthesis</td>\n",
       "    </tr>\n",
       "    <tr>\n",
       "      <th>M00422</th>\n",
       "      <td>0.000592</td>\n",
       "      <td>0.001880</td>\n",
       "      <td>0.529182</td>\n",
       "      <td>Acetyl-CoA_pathway_CO2_to_acetyl-CoA</td>\n",
       "    </tr>\n",
       "  </tbody>\n",
       "</table>\n",
       "</div>"
      ],
      "text/plain": [
       "         P-value  Corrected P-value  Effect Size  \\\n",
       "M00567  0.019712           0.034389     0.251537   \n",
       "M00357  0.009344           0.017562     0.306081   \n",
       "M00356  0.007698           0.014976     0.320622   \n",
       "M00563  0.009229           0.017562     0.307003   \n",
       "M00358  0.001377           0.003843     0.457124   \n",
       "M00608  0.442983           0.510488     0.047626   \n",
       "M00174  0.371815           0.445345     0.058163   \n",
       "M00346  0.000037           0.000191     0.791534   \n",
       "M00345  0.009412           0.017565     0.305539   \n",
       "M00344  0.000002           0.000036     1.117034   \n",
       "M00378  0.417375           0.488969     0.051197   \n",
       "M00935  0.006962           0.013961     0.328225   \n",
       "M00422  0.000592           0.001880     0.529182   \n",
       "\n",
       "                                                                                                  Description  \n",
       "M00567                                                                          Methanogenesis_CO2_to_methane  \n",
       "M00357                                                                      Methanogenesis_acetate_to_methane  \n",
       "M00356                                                                     Methanogenesis_methanol_to_methane  \n",
       "M00563                                       Methanogenesis_methylaminedimethylaminetrimethylamine_to_methane  \n",
       "M00358                                                                                Coenzyme_M_biosynthesis  \n",
       "M00608  2-Oxocarboxylic_acid_chain_extension_2-oxoglutarate_to_2-oxoadipate_to_2-oxopimelate_to_2-oxosuberate  \n",
       "M00174                                                 Methane_oxidation_methanotroph_methane_to_formaldehyde  \n",
       "M00346                                                               Formaldehyde_assimilation_serine_pathway  \n",
       "M00345                                               Formaldehyde_assimilation_ribulose_monophosphate_pathway  \n",
       "M00344                                               Formaldehyde_assimilation_xylulose_monophosphate_pathway  \n",
       "M00378                                                                              F420_biosynthesis_archaea  \n",
       "M00935                                                                              Methanofuran_biosynthesis  \n",
       "M00422                                                                   Acetyl-CoA_pathway_CO2_to_acetyl-CoA  "
      ]
     },
     "execution_count": 14,
     "metadata": {},
     "output_type": "execute_result"
    }
   ],
   "source": [
    "module_stats.loc[\n",
    "    [\"M00567\", \"M00357\", \"M00356\", \"M00563\", \"M00358\", \"M00608\", \"M00174\", \"M00346\", \"M00345\", \"M00344\", \"M00378\", \"M00935\", \"M00422\"],\n",
    "    :\n",
    "]"
   ]
  },
  {
   "cell_type": "code",
   "execution_count": 15,
   "id": "db234686-8793-4ea5-ab91-3e3ff9139fe5",
   "metadata": {
    "jupyter": {
     "source_hidden": true
    },
    "tags": []
   },
   "outputs": [],
   "source": [
    "grouping_meta = \"depthlayer\"\n",
    "\n",
    "groups_dict = {\n",
    "    layer: meta[meta[grouping_meta] == layer].index.tolist() for layer in meta[grouping_meta].unique()\n",
    "}\n",
    "groups = groups_dict.values()"
   ]
  },
  {
   "cell_type": "code",
   "execution_count": 16,
   "id": "4e9a92ac-2015-40d6-96c8-e9f0bb15264d",
   "metadata": {
    "scrolled": true,
    "tags": []
   },
   "outputs": [
    {
     "data": {
      "application/vnd.jupyter.widget-view+json": {
       "model_id": "77d418cc0a8549baa6db1315ab922b5d",
       "version_major": 2,
       "version_minor": 0
      },
      "text/plain": [
       "interactive(children=(Dropdown(description='selected_module', options=('M00001: Glycolysis_Embden-Meyerhof_pat…"
      ]
     },
     "execution_count": 16,
     "metadata": {},
     "output_type": "execute_result"
    }
   ],
   "source": [
    "modules_dd = widgets.Dropdown(options=module_stats.index + \": \" + module_stats[\"Description\"])\n",
    "\n",
    "def update_module_boxplot(selected_module):\n",
    "    module_id = selected_module.split(\":\")[0]\n",
    "    module_name = module_pred.loc[module_id, \"Description\"]\n",
    "    boxval = [module_pred.loc[module_id, group].to_list() for group in groups]\n",
    "    boxval = [i for b in boxval for i in b]\n",
    "\n",
    "    index = [i for group in groups for i in group]\n",
    "\n",
    "    boxval_df = pd.DataFrame(boxval, index = index, columns = [\"Value\"])\n",
    "    boxval_df[\"Group\"] = boxval_df.index.map({i: k for k, v in groups_dict.items() for i in v})\n",
    "    boxval_df[\"Samples\"] = boxval_df.index\n",
    "    \n",
    "    corrected_p_value, effect_size = module_stats.loc[module_id, [\"Corrected P-value\", \"Effect Size\"]]\n",
    "    # corrected_p_value = round(corrected_p_value, 3)\n",
    "    corrected_p_value = \"{:.3E}\".format(corrected_p_value)\n",
    "    effect_size = round(effect_size, 3)\n",
    "    \n",
    "    \n",
    "    fig = px.box(boxval_df, x=\"Group\", y=\"Value\", points=\"all\", hover_data=[\"Samples\"])\n",
    "    fig.update_layout(title={'text': f\"\"\"<b>{module_id}</b>\\t{module_name}</br></br><b>Corrected P-value</b>: {corrected_p_value}\\t\\t\\t<b>Effect size</b>: {effect_size}\"\"\"})\n",
    "    fig.show()\n",
    "    \n",
    "widgets.interactive(update_module_boxplot, selected_module=modules_dd)"
   ]
  }
 ],
 "metadata": {
  "kernelspec": {
   "display_name": "Python 3 (ipykernel)",
   "language": "python",
   "name": "python3"
  },
  "language_info": {
   "codemirror_mode": {
    "name": "ipython",
    "version": 3
   },
   "file_extension": ".py",
   "mimetype": "text/x-python",
   "name": "python",
   "nbconvert_exporter": "python",
   "pygments_lexer": "ipython3",
   "version": "3.9.13"
  }
 },
 "nbformat": 4,
 "nbformat_minor": 5
}
